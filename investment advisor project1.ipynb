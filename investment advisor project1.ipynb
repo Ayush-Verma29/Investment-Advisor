{
 "cells": [
  {
   "cell_type": "code",
   "execution_count": 6,
   "id": "16585fe6",
   "metadata": {},
   "outputs": [],
   "source": [
    "import pandas as pd\n",
    "import gspread\n",
    "from oauth2client import service_account\n",
    "from oauth2client.service_account import ServiceAccountCredentials\n",
    "import seaborn as sns"
   ]
  },
  {
   "cell_type": "code",
   "execution_count": 7,
   "id": "cbcaeaa2",
   "metadata": {},
   "outputs": [
    {
     "data": {
      "text/plain": [
       "<gspread.client.Client at 0x245bc236850>"
      ]
     },
     "execution_count": 7,
     "metadata": {},
     "output_type": "execute_result"
    }
   ],
   "source": [
    "# json file import\n",
    "\n",
    "gc = gspread.service_account(filename = 'C:/Users/ayush/Desktop/investment advisor/steadfast-bebop-370118-73ed654540e3.json')\n",
    "gc"
   ]
  },
  {
   "cell_type": "code",
   "execution_count": 8,
   "id": "6f2151dd",
   "metadata": {
    "scrolled": true
   },
   "outputs": [
    {
     "data": {
      "text/plain": [
       "<Spreadsheet 'INVESTMENT_ADVISOR' id:1mAPw9BTC__egUGoslzKuSh5_OnVO5Mqqo1xx86NHiRc>"
      ]
     },
     "execution_count": 8,
     "metadata": {},
     "output_type": "execute_result"
    }
   ],
   "source": [
    "# Establish the connection\n",
    "data =gc.open('INVESTMENT_ADVISOR')\n",
    "data"
   ]
  },
  {
   "cell_type": "code",
   "execution_count": 9,
   "id": "37373098",
   "metadata": {},
   "outputs": [],
   "source": [
    "\n",
    "\n",
    "stock = data.worksheet('BSE500')                       ## stocks table\n",
    "income_expense = data.worksheet('INEX')       ## Income/expense table\n",
    "final_table = data.worksheet('FINAL REPORT')            ## Final Report"
   ]
  },
  {
   "cell_type": "code",
   "execution_count": 10,
   "id": "216545b3",
   "metadata": {},
   "outputs": [],
   "source": [
    "df_stocks = pd.DataFrame(stock.get_all_records())"
   ]
  },
  {
   "cell_type": "code",
   "execution_count": null,
   "id": "b4c3dadb",
   "metadata": {},
   "outputs": [],
   "source": []
  },
  {
   "cell_type": "code",
   "execution_count": 11,
   "id": "03d4154a",
   "metadata": {},
   "outputs": [],
   "source": [
    "df_income_expense = pd.DataFrame(income_expense.get_all_records())"
   ]
  },
  {
   "cell_type": "code",
   "execution_count": null,
   "id": "89498751",
   "metadata": {},
   "outputs": [],
   "source": []
  },
  {
   "cell_type": "code",
   "execution_count": 12,
   "id": "9c50cbc0",
   "metadata": {},
   "outputs": [],
   "source": [
    "### Net Income calculation"
   ]
  },
  {
   "cell_type": "code",
   "execution_count": null,
   "id": "fd6ed397",
   "metadata": {},
   "outputs": [],
   "source": []
  },
  {
   "cell_type": "code",
   "execution_count": 13,
   "id": "266309a9",
   "metadata": {},
   "outputs": [
    {
     "data": {
      "text/html": [
       "<div>\n",
       "<style scoped>\n",
       "    .dataframe tbody tr th:only-of-type {\n",
       "        vertical-align: middle;\n",
       "    }\n",
       "\n",
       "    .dataframe tbody tr th {\n",
       "        vertical-align: top;\n",
       "    }\n",
       "\n",
       "    .dataframe thead th {\n",
       "        text-align: right;\n",
       "    }\n",
       "</style>\n",
       "<table border=\"1\" class=\"dataframe\">\n",
       "  <thead>\n",
       "    <tr style=\"text-align: right;\">\n",
       "      <th></th>\n",
       "      <th></th>\n",
       "      <th>Account</th>\n",
       "      <th>Category</th>\n",
       "      <th>Subcategory</th>\n",
       "      <th>Note</th>\n",
       "      <th>INR</th>\n",
       "      <th>Income/Expense</th>\n",
       "      <th>Note2</th>\n",
       "      <th>Amount</th>\n",
       "      <th>Currency</th>\n",
       "      <th>Account2</th>\n",
       "    </tr>\n",
       "  </thead>\n",
       "  <tbody>\n",
       "    <tr>\n",
       "      <th>0</th>\n",
       "      <td>3/2/2022 10:11</td>\n",
       "      <td>CUB - online payment</td>\n",
       "      <td>Food</td>\n",
       "      <td></td>\n",
       "      <td>Brownie</td>\n",
       "      <td>50.00</td>\n",
       "      <td>Expense</td>\n",
       "      <td></td>\n",
       "      <td>50.00</td>\n",
       "      <td>INR</td>\n",
       "      <td>50.00</td>\n",
       "    </tr>\n",
       "    <tr>\n",
       "      <th>1</th>\n",
       "      <td>3/2/2022 10:11</td>\n",
       "      <td>CUB - online payment</td>\n",
       "      <td>Other</td>\n",
       "      <td></td>\n",
       "      <td>To lended people</td>\n",
       "      <td>300.00</td>\n",
       "      <td>Expense</td>\n",
       "      <td></td>\n",
       "      <td>300.00</td>\n",
       "      <td>INR</td>\n",
       "      <td>300.00</td>\n",
       "    </tr>\n",
       "    <tr>\n",
       "      <th>2</th>\n",
       "      <td>3/1/2022 19:50</td>\n",
       "      <td>CUB - online payment</td>\n",
       "      <td>Food</td>\n",
       "      <td></td>\n",
       "      <td>Dinner</td>\n",
       "      <td>78.00</td>\n",
       "      <td>Expense</td>\n",
       "      <td></td>\n",
       "      <td>78.00</td>\n",
       "      <td>INR</td>\n",
       "      <td>78.00</td>\n",
       "    </tr>\n",
       "    <tr>\n",
       "      <th>3</th>\n",
       "      <td>3/1/2022 18:56</td>\n",
       "      <td>CUB - online payment</td>\n",
       "      <td>Transportation</td>\n",
       "      <td></td>\n",
       "      <td>Metro</td>\n",
       "      <td>30.00</td>\n",
       "      <td>Expense</td>\n",
       "      <td></td>\n",
       "      <td>30.00</td>\n",
       "      <td>INR</td>\n",
       "      <td>30.00</td>\n",
       "    </tr>\n",
       "    <tr>\n",
       "      <th>4</th>\n",
       "      <td>3/1/2022 18:22</td>\n",
       "      <td>CUB - online payment</td>\n",
       "      <td>Food</td>\n",
       "      <td></td>\n",
       "      <td>Snacks</td>\n",
       "      <td>67.00</td>\n",
       "      <td>Expense</td>\n",
       "      <td></td>\n",
       "      <td>67.00</td>\n",
       "      <td>INR</td>\n",
       "      <td>67.00</td>\n",
       "    </tr>\n",
       "    <tr>\n",
       "      <th>5</th>\n",
       "      <td>3/1/2022 18:22</td>\n",
       "      <td>CUB - online payment</td>\n",
       "      <td>Other</td>\n",
       "      <td></td>\n",
       "      <td>From vicky</td>\n",
       "      <td>100.00</td>\n",
       "      <td>Income</td>\n",
       "      <td></td>\n",
       "      <td>100.00</td>\n",
       "      <td>INR</td>\n",
       "      <td>100.00</td>\n",
       "    </tr>\n",
       "    <tr>\n",
       "      <th>6</th>\n",
       "      <td>3/1/2022 18:21</td>\n",
       "      <td>CUB - online payment</td>\n",
       "      <td>Other</td>\n",
       "      <td></td>\n",
       "      <td>From dad</td>\n",
       "      <td>500.00</td>\n",
       "      <td>Income</td>\n",
       "      <td></td>\n",
       "      <td>500.00</td>\n",
       "      <td>INR</td>\n",
       "      <td>500.00</td>\n",
       "    </tr>\n",
       "    <tr>\n",
       "      <th>7</th>\n",
       "      <td>2/28/2022 11:56</td>\n",
       "      <td>CUB - online payment</td>\n",
       "      <td>Food</td>\n",
       "      <td></td>\n",
       "      <td>Pizza</td>\n",
       "      <td>339.15</td>\n",
       "      <td>Expense</td>\n",
       "      <td></td>\n",
       "      <td>339.15</td>\n",
       "      <td>INR</td>\n",
       "      <td>339.15</td>\n",
       "    </tr>\n",
       "    <tr>\n",
       "      <th>8</th>\n",
       "      <td>2/28/2022 11:45</td>\n",
       "      <td>CUB - online payment</td>\n",
       "      <td>Other</td>\n",
       "      <td></td>\n",
       "      <td>From kumara</td>\n",
       "      <td>200.00</td>\n",
       "      <td>Income</td>\n",
       "      <td></td>\n",
       "      <td>200.00</td>\n",
       "      <td>INR</td>\n",
       "      <td>200.00</td>\n",
       "    </tr>\n",
       "    <tr>\n",
       "      <th>9</th>\n",
       "      <td>2/27/2022 15:29</td>\n",
       "      <td>CUB - online payment</td>\n",
       "      <td>Food</td>\n",
       "      <td></td>\n",
       "      <td>Lunch</td>\n",
       "      <td>243.00</td>\n",
       "      <td>Expense</td>\n",
       "      <td></td>\n",
       "      <td>243.00</td>\n",
       "      <td>INR</td>\n",
       "      <td>243.00</td>\n",
       "    </tr>\n",
       "  </tbody>\n",
       "</table>\n",
       "</div>"
      ],
      "text/plain": [
       "                                 Account        Category Subcategory  \\\n",
       "0   3/2/2022 10:11  CUB - online payment            Food               \n",
       "1   3/2/2022 10:11  CUB - online payment           Other               \n",
       "2   3/1/2022 19:50  CUB - online payment            Food               \n",
       "3   3/1/2022 18:56  CUB - online payment  Transportation               \n",
       "4   3/1/2022 18:22  CUB - online payment            Food               \n",
       "5   3/1/2022 18:22  CUB - online payment           Other               \n",
       "6   3/1/2022 18:21  CUB - online payment           Other               \n",
       "7  2/28/2022 11:56  CUB - online payment            Food               \n",
       "8  2/28/2022 11:45  CUB - online payment           Other               \n",
       "9  2/27/2022 15:29  CUB - online payment            Food               \n",
       "\n",
       "               Note     INR Income/Expense Note2  Amount Currency  Account2  \n",
       "0           Brownie   50.00        Expense         50.00      INR     50.00  \n",
       "1  To lended people  300.00        Expense        300.00      INR    300.00  \n",
       "2            Dinner   78.00        Expense         78.00      INR     78.00  \n",
       "3             Metro   30.00        Expense         30.00      INR     30.00  \n",
       "4            Snacks   67.00        Expense         67.00      INR     67.00  \n",
       "5        From vicky  100.00         Income        100.00      INR    100.00  \n",
       "6          From dad  500.00         Income        500.00      INR    500.00  \n",
       "7             Pizza  339.15        Expense        339.15      INR    339.15  \n",
       "8       From kumara  200.00         Income        200.00      INR    200.00  \n",
       "9             Lunch  243.00        Expense        243.00      INR    243.00  "
      ]
     },
     "execution_count": 13,
     "metadata": {},
     "output_type": "execute_result"
    }
   ],
   "source": [
    "df_income_expense.head(10)"
   ]
  },
  {
   "cell_type": "code",
   "execution_count": 14,
   "id": "cc93ef87",
   "metadata": {},
   "outputs": [],
   "source": [
    "income_filter = df_income_expense[df_income_expense['Income/Expense'] =='Income']\n"
   ]
  },
  {
   "cell_type": "code",
   "execution_count": 15,
   "id": "3fcd9ace",
   "metadata": {},
   "outputs": [
    {
     "data": {
      "text/plain": [
       "54754.0"
      ]
     },
     "execution_count": 15,
     "metadata": {},
     "output_type": "execute_result"
    }
   ],
   "source": [
    "net_income = income_filter['INR'].sum()\n",
    "net_income"
   ]
  },
  {
   "cell_type": "code",
   "execution_count": 16,
   "id": "04d1bc98",
   "metadata": {},
   "outputs": [],
   "source": [
    "expense_filter = df_income_expense[df_income_expense['Income/Expense'] == 'Expense']"
   ]
  },
  {
   "cell_type": "code",
   "execution_count": 17,
   "id": "8c6f4548",
   "metadata": {},
   "outputs": [
    {
     "data": {
      "text/plain": [
       "59024.0"
      ]
     },
     "execution_count": 17,
     "metadata": {},
     "output_type": "execute_result"
    }
   ],
   "source": [
    "net_expense = expense_filter['INR'].sum()\n",
    "net_expense"
   ]
  },
  {
   "cell_type": "code",
   "execution_count": 18,
   "id": "e302ebb2",
   "metadata": {},
   "outputs": [
    {
     "data": {
      "text/plain": [
       "-4270.0"
      ]
     },
     "execution_count": 18,
     "metadata": {},
     "output_type": "execute_result"
    }
   ],
   "source": [
    "investment_fund = net_income - net_expense\n",
    "investment_fund"
   ]
  },
  {
   "cell_type": "code",
   "execution_count": 19,
   "id": "edf5a0c5",
   "metadata": {},
   "outputs": [
    {
     "data": {
      "text/plain": [
       "24502.48"
      ]
     },
     "execution_count": 19,
     "metadata": {},
     "output_type": "execute_result"
    }
   ],
   "source": [
    "##Food\n",
    "Food = df_income_expense[df_income_expense['Category'] == 'Food']\n",
    "Food_sum = Food['INR'].sum()\n",
    "Food_sum\n"
   ]
  },
  {
   "cell_type": "code",
   "execution_count": 20,
   "id": "303ddeb5",
   "metadata": {},
   "outputs": [
    {
     "data": {
      "text/plain": [
       "37868.0"
      ]
     },
     "execution_count": 20,
     "metadata": {},
     "output_type": "execute_result"
    }
   ],
   "source": [
    "## Other\n",
    "Other = df_income_expense[df_income_expense['Category'] == 'Other']\n",
    "other_sum = Other['INR'].sum()\n",
    "other_sum\n"
   ]
  },
  {
   "cell_type": "code",
   "execution_count": 21,
   "id": "80f14233",
   "metadata": {},
   "outputs": [
    {
     "data": {
      "text/plain": [
       "9203.8"
      ]
     },
     "execution_count": 21,
     "metadata": {},
     "output_type": "execute_result"
    }
   ],
   "source": [
    "## Transportation\n",
    "Transportation = df_income_expense[df_income_expense['Category'] == 'Transportation']\n",
    "Transportation_sum = Transportation['INR'].sum()\n",
    "Transportation_sum\n"
   ]
  },
  {
   "cell_type": "code",
   "execution_count": 22,
   "id": "b2b95a37",
   "metadata": {},
   "outputs": [
    {
     "data": {
      "text/plain": [
       "2513.7200000000003"
      ]
     },
     "execution_count": 22,
     "metadata": {},
     "output_type": "execute_result"
    }
   ],
   "source": [
    "## Social Life\n",
    "Social_Life = df_income_expense[df_income_expense['Category'] == 'Social Life']\n",
    "Social_Life_sum = Social_Life['INR'].sum()\n",
    "Social_Life_sum"
   ]
  },
  {
   "cell_type": "code",
   "execution_count": 23,
   "id": "27c61c16",
   "metadata": {},
   "outputs": [
    {
     "data": {
      "text/plain": [
       "12188.0"
      ]
     },
     "execution_count": 23,
     "metadata": {},
     "output_type": "execute_result"
    }
   ],
   "source": [
    "## Household\n",
    "Household = df_income_expense[df_income_expense['Category'] == 'Household']\n",
    "Household_sum = Household['INR'].sum()\n",
    "Household_sum"
   ]
  },
  {
   "cell_type": "code",
   "execution_count": 24,
   "id": "fe044332",
   "metadata": {},
   "outputs": [
    {
     "data": {
      "text/plain": [
       "3388.0"
      ]
     },
     "execution_count": 24,
     "metadata": {},
     "output_type": "execute_result"
    }
   ],
   "source": [
    "## Apparel\n",
    "Apparel = df_income_expense[df_income_expense['Category'] == 'Apparel']\n",
    "Apparel_sum = Apparel['INR'].sum()\n",
    "Apparel_sum"
   ]
  },
  {
   "cell_type": "code",
   "execution_count": 25,
   "id": "77c81880",
   "metadata": {},
   "outputs": [
    {
     "data": {
      "text/plain": [
       "1400.0"
      ]
     },
     "execution_count": 25,
     "metadata": {},
     "output_type": "execute_result"
    }
   ],
   "source": [
    "## Education\n",
    "Education = df_income_expense[df_income_expense['Category'] == 'Education']\n",
    "Education_sum = Education['INR'].sum()\n",
    "Education_sum"
   ]
  },
  {
   "cell_type": "code",
   "execution_count": 26,
   "id": "2355b8c0",
   "metadata": {},
   "outputs": [
    {
     "data": {
      "text/plain": [
       "8000.0"
      ]
     },
     "execution_count": 26,
     "metadata": {},
     "output_type": "execute_result"
    }
   ],
   "source": [
    "## Education\n",
    "Salary = df_income_expense[df_income_expense['Category'] == 'Salary']\n",
    "Salary_sum = Salary['INR'].sum()\n",
    "Salary_sum"
   ]
  },
  {
   "cell_type": "code",
   "execution_count": 27,
   "id": "ffe4da03",
   "metadata": {},
   "outputs": [
    {
     "data": {
      "text/plain": [
       "14000.0"
      ]
     },
     "execution_count": 27,
     "metadata": {},
     "output_type": "execute_result"
    }
   ],
   "source": [
    "## Allowance\n",
    "Allowance = df_income_expense[df_income_expense['Category'] == 'Allowance']\n",
    "Allowance_sum = Allowance['INR'].sum()\n",
    "Allowance_sum"
   ]
  },
  {
   "cell_type": "code",
   "execution_count": 28,
   "id": "4e482e7f",
   "metadata": {},
   "outputs": [
    {
     "data": {
      "text/plain": [
       "196.0"
      ]
     },
     "execution_count": 28,
     "metadata": {},
     "output_type": "execute_result"
    }
   ],
   "source": [
    "## Beauty\n",
    "Beauty = df_income_expense[df_income_expense['Category'] == 'Beauty']\n",
    "Beauty_sum = Beauty['INR'].sum()\n",
    "Beauty_sum"
   ]
  },
  {
   "cell_type": "code",
   "execution_count": 29,
   "id": "cbaf0f38",
   "metadata": {},
   "outputs": [
    {
     "data": {
      "text/plain": [
       "115.0"
      ]
     },
     "execution_count": 29,
     "metadata": {},
     "output_type": "execute_result"
    }
   ],
   "source": [
    "## Gift\n",
    "Gift = df_income_expense[df_income_expense['Category'] == 'Gift']\n",
    "Gift_sum = Gift['INR'].sum()\n",
    "Gift_sum"
   ]
  },
  {
   "cell_type": "code",
   "execution_count": 30,
   "id": "67680d81",
   "metadata": {},
   "outputs": [
    {
     "data": {
      "text/plain": [
       "3.0"
      ]
     },
     "execution_count": 30,
     "metadata": {},
     "output_type": "execute_result"
    }
   ],
   "source": [
    "## Petty cash\n",
    "Petty_cash = df_income_expense[df_income_expense['Category'] == 'Petty cash']\n",
    "Petty_cash_sum = Petty_cash['INR'].sum()\n",
    "Petty_cash_sum"
   ]
  },
  {
   "cell_type": "markdown",
   "id": "beb62ee6",
   "metadata": {},
   "source": [
    "### FIll Data in Final_report"
   ]
  },
  {
   "cell_type": "code",
   "execution_count": 31,
   "id": "2ff64029",
   "metadata": {},
   "outputs": [
    {
     "data": {
      "text/plain": [
       "59024.0"
      ]
     },
     "execution_count": 31,
     "metadata": {},
     "output_type": "execute_result"
    }
   ],
   "source": [
    "net_expense"
   ]
  },
  {
   "cell_type": "code",
   "execution_count": 34,
   "id": "c9c8e751",
   "metadata": {},
   "outputs": [],
   "source": [
    "wks = gc.open('INVESTMENT_ADVISOR')\n",
    "final = wks.worksheet('FINAL REPORT')\n"
   ]
  },
  {
   "cell_type": "code",
   "execution_count": 35,
   "id": "d02c96dd",
   "metadata": {},
   "outputs": [
    {
     "data": {
      "text/plain": [
       "{'spreadsheetId': '1mAPw9BTC__egUGoslzKuSh5_OnVO5Mqqo1xx86NHiRc',\n",
       " 'updatedRange': \"'FINAL REPORT'!C8\",\n",
       " 'updatedRows': 1,\n",
       " 'updatedColumns': 1,\n",
       " 'updatedCells': 1}"
      ]
     },
     "execution_count": 35,
     "metadata": {},
     "output_type": "execute_result"
    }
   ],
   "source": [
    "final.update_cell(7,3,net_income)\n",
    "final.update_cell(8,3,net_expense)"
   ]
  },
  {
   "cell_type": "code",
   "execution_count": 36,
   "id": "2f4a4053",
   "metadata": {},
   "outputs": [],
   "source": [
    "# cell_list = final.range('C10:C21')\n",
    "# final.update_cells(cell_list)"
   ]
  },
  {
   "cell_type": "code",
   "execution_count": 37,
   "id": "5ca842b9",
   "metadata": {},
   "outputs": [
    {
     "data": {
      "text/plain": [
       "{'spreadsheetId': '1mAPw9BTC__egUGoslzKuSh5_OnVO5Mqqo1xx86NHiRc',\n",
       " 'updatedRange': \"'FINAL REPORT'!C10:C21\",\n",
       " 'updatedRows': 12,\n",
       " 'updatedColumns': 1,\n",
       " 'updatedCells': 12}"
      ]
     },
     "execution_count": 37,
     "metadata": {},
     "output_type": "execute_result"
    }
   ],
   "source": [
    "final.update(\"C10:C21\",[[Food_sum],[other_sum],[Transportation_sum],[Social_Life_sum],[Household_sum],[Apparel_sum],[Education_sum],[Salary_sum],[Allowance_sum],[Beauty_sum],[Gift_sum],[Petty_cash_sum]])"
   ]
  },
  {
   "cell_type": "code",
   "execution_count": 38,
   "id": "c200a349",
   "metadata": {},
   "outputs": [
    {
     "data": {
      "text/plain": [
       "{'spreadsheetId': '1mAPw9BTC__egUGoslzKuSh5_OnVO5Mqqo1xx86NHiRc',\n",
       " 'updatedRange': \"'FINAL REPORT'!C24\",\n",
       " 'updatedRows': 1,\n",
       " 'updatedColumns': 1,\n",
       " 'updatedCells': 1}"
      ]
     },
     "execution_count": 38,
     "metadata": {},
     "output_type": "execute_result"
    }
   ],
   "source": [
    "### \n",
    "\n",
    "final.update_cell(24,3,investment_fund)"
   ]
  },
  {
   "cell_type": "code",
   "execution_count": null,
   "id": "8bda158a",
   "metadata": {},
   "outputs": [],
   "source": []
  },
  {
   "cell_type": "markdown",
   "id": "2450c0d0",
   "metadata": {},
   "source": [
    " ### SUb Task  : 2 "
   ]
  },
  {
   "cell_type": "code",
   "execution_count": 39,
   "id": "c0755902",
   "metadata": {},
   "outputs": [],
   "source": [
    "### cleaning the data by filling the null values with 0 "
   ]
  },
  {
   "cell_type": "code",
   "execution_count": 40,
   "id": "e2b2a49b",
   "metadata": {},
   "outputs": [],
   "source": [
    "df_stocks['10-Year Return(%)'] = df_stocks['10-Year Return(%)'].fillna(0)\n",
    "df_stocks['10-Year Return(%)'] = pd.to_numeric(df_stocks['10-Year Return(%)'])"
   ]
  },
  {
   "cell_type": "code",
   "execution_count": 41,
   "id": "e0e2a308",
   "metadata": {},
   "outputs": [],
   "source": [
    "df_stocks['Market Cap(Cr)'] = df_stocks['Market Cap(Cr)'].replace(',','')\n",
    "df_stocks['Market Cap(Cr)'] = pd.to_numeric(df_stocks['Market Cap(Cr)'])"
   ]
  },
  {
   "cell_type": "code",
   "execution_count": 42,
   "id": "504832b1",
   "metadata": {},
   "outputs": [],
   "source": [
    "df_stocks['Dividend Per Share'] = df_stocks['Dividend Per Share'].fillna(0)\n",
    "df_stocks['Dividend Per Share'] = pd.to_numeric(df_stocks['Dividend Per Share'])"
   ]
  },
  {
   "cell_type": "code",
   "execution_count": 43,
   "id": "4c78c902",
   "metadata": {},
   "outputs": [],
   "source": [
    "df_stocks['Enterprise Value(Cr)'] = df_stocks['Enterprise Value(Cr)'].fillna(0)\n",
    "df_stocks['Enterprise Value(Cr)'] = pd.to_numeric(df_stocks['Enterprise Value(Cr)'])"
   ]
  },
  {
   "cell_type": "code",
   "execution_count": 44,
   "id": "9d357a54",
   "metadata": {},
   "outputs": [],
   "source": [
    "\n",
    "df_stocks['3-Year Return'] = pd.to_numeric(df_stocks['3-Year Return'])"
   ]
  },
  {
   "cell_type": "code",
   "execution_count": null,
   "id": "1c7c37c4",
   "metadata": {},
   "outputs": [],
   "source": []
  },
  {
   "cell_type": "code",
   "execution_count": 45,
   "id": "32b7d798",
   "metadata": {},
   "outputs": [],
   "source": [
    "High_Risk_Taking = df_stocks[(df_stocks['Delta']>0) & (df_stocks['10-Year Return(%)']<8) & (df_stocks['Market Cap(Cr)']<2000)]"
   ]
  },
  {
   "cell_type": "code",
   "execution_count": 46,
   "id": "09b64976",
   "metadata": {},
   "outputs": [
    {
     "data": {
      "text/html": [
       "<div>\n",
       "<style scoped>\n",
       "    .dataframe tbody tr th:only-of-type {\n",
       "        vertical-align: middle;\n",
       "    }\n",
       "\n",
       "    .dataframe tbody tr th {\n",
       "        vertical-align: top;\n",
       "    }\n",
       "\n",
       "    .dataframe thead th {\n",
       "        text-align: right;\n",
       "    }\n",
       "</style>\n",
       "<table border=\"1\" class=\"dataframe\">\n",
       "  <thead>\n",
       "    <tr style=\"text-align: right;\">\n",
       "      <th></th>\n",
       "      <th>Company</th>\n",
       "      <th>BSE code</th>\n",
       "      <th>NSE code</th>\n",
       "      <th>ISIN</th>\n",
       "      <th>Sector</th>\n",
       "      <th>Industry</th>\n",
       "      <th>Date</th>\n",
       "      <th>Price</th>\n",
       "      <th>1 day change(%)</th>\n",
       "      <th>52 Week Low</th>\n",
       "      <th>...</th>\n",
       "      <th>Dividend Yield(%)</th>\n",
       "      <th>EV / EBITDA</th>\n",
       "      <th>Price / Sales</th>\n",
       "      <th>Price / Cash Flow</th>\n",
       "      <th>Earning Per Share</th>\n",
       "      <th>Book Value Per Share</th>\n",
       "      <th>Cash Flow Per Share</th>\n",
       "      <th>Free Cash Flow Per Share</th>\n",
       "      <th>Dividend Per Share</th>\n",
       "      <th>Delta</th>\n",
       "    </tr>\n",
       "  </thead>\n",
       "  <tbody>\n",
       "  </tbody>\n",
       "</table>\n",
       "<p>0 rows × 42 columns</p>\n",
       "</div>"
      ],
      "text/plain": [
       "Empty DataFrame\n",
       "Columns: [Company, BSE code, NSE code, ISIN, Sector, Industry, Date, Price, 1 day change(%), 52 Week Low, 52 Week High, 3 Year Low, 3 Year High, 5 Year Low, 5 Year High, All Time Low, All Time High, Market Cap(Cr), Enterprise Value(Cr), 1-Week Return, 1-Month Return, 3-Month Return(%), 1-Year Return(%), 3-Year Return, 5-Year Return(%), 10-Year Return(%), Price to Earnings, Median P/E, Price to Book, Median P/B, Earning Yield(%), Price earnings to growth, Dividend Yield(%), EV / EBITDA, Price / Sales, Price / Cash Flow, Earning Per Share, Book Value Per Share, Cash Flow Per Share, Free Cash Flow Per Share, Dividend Per Share, Delta]\n",
       "Index: []\n",
       "\n",
       "[0 rows x 42 columns]"
      ]
     },
     "execution_count": 46,
     "metadata": {},
     "output_type": "execute_result"
    }
   ],
   "source": [
    "High_Risk_Taking"
   ]
  },
  {
   "cell_type": "code",
   "execution_count": 47,
   "id": "909cafa4",
   "metadata": {},
   "outputs": [],
   "source": [
    "Risk_Taking = df_stocks[(df_stocks['Delta']>0) & (df_stocks['10-Year Return(%)']>8) & (df_stocks['10-Year Return(%)']<15) & \n",
    "                        (df_stocks['Market Cap(Cr)']>2000)  & (df_stocks['Market Cap(Cr)']<5000)]"
   ]
  },
  {
   "cell_type": "code",
   "execution_count": 48,
   "id": "73b3bf9d",
   "metadata": {},
   "outputs": [
    {
     "data": {
      "text/html": [
       "<div>\n",
       "<style scoped>\n",
       "    .dataframe tbody tr th:only-of-type {\n",
       "        vertical-align: middle;\n",
       "    }\n",
       "\n",
       "    .dataframe tbody tr th {\n",
       "        vertical-align: top;\n",
       "    }\n",
       "\n",
       "    .dataframe thead th {\n",
       "        text-align: right;\n",
       "    }\n",
       "</style>\n",
       "<table border=\"1\" class=\"dataframe\">\n",
       "  <thead>\n",
       "    <tr style=\"text-align: right;\">\n",
       "      <th></th>\n",
       "      <th>Company</th>\n",
       "      <th>BSE code</th>\n",
       "      <th>NSE code</th>\n",
       "      <th>ISIN</th>\n",
       "      <th>Sector</th>\n",
       "      <th>Industry</th>\n",
       "      <th>Date</th>\n",
       "      <th>Price</th>\n",
       "      <th>1 day change(%)</th>\n",
       "      <th>52 Week Low</th>\n",
       "      <th>...</th>\n",
       "      <th>Dividend Yield(%)</th>\n",
       "      <th>EV / EBITDA</th>\n",
       "      <th>Price / Sales</th>\n",
       "      <th>Price / Cash Flow</th>\n",
       "      <th>Earning Per Share</th>\n",
       "      <th>Book Value Per Share</th>\n",
       "      <th>Cash Flow Per Share</th>\n",
       "      <th>Free Cash Flow Per Share</th>\n",
       "      <th>Dividend Per Share</th>\n",
       "      <th>Delta</th>\n",
       "    </tr>\n",
       "  </thead>\n",
       "  <tbody>\n",
       "    <tr>\n",
       "      <th>320</th>\n",
       "      <td>NCC Ltd.</td>\n",
       "      <td>500294</td>\n",
       "      <td>NCC</td>\n",
       "      <td>INE868B01028</td>\n",
       "      <td>Construction</td>\n",
       "      <td>Construction</td>\n",
       "      <td>2022-09-05</td>\n",
       "      <td>74.20</td>\n",
       "      <td>-0.13</td>\n",
       "      <td>52.20</td>\n",
       "      <td>...</td>\n",
       "      <td>2.70</td>\n",
       "      <td>4.44</td>\n",
       "      <td>0.38</td>\n",
       "      <td>3.29</td>\n",
       "      <td>8.95</td>\n",
       "      <td>92.65</td>\n",
       "      <td>23.21</td>\n",
       "      <td>15.82</td>\n",
       "      <td>2.0</td>\n",
       "      <td>0.15</td>\n",
       "    </tr>\n",
       "    <tr>\n",
       "      <th>325</th>\n",
       "      <td>Tata Coffee Ltd.</td>\n",
       "      <td>532301</td>\n",
       "      <td>TATACOFFEE</td>\n",
       "      <td>INE493A01027</td>\n",
       "      <td>Consumer Staples</td>\n",
       "      <td>Tea &amp; Coffee</td>\n",
       "      <td>2022-09-05</td>\n",
       "      <td>243.10</td>\n",
       "      <td>-0.57</td>\n",
       "      <td>181.65</td>\n",
       "      <td>...</td>\n",
       "      <td>0.82</td>\n",
       "      <td>11.41</td>\n",
       "      <td>1.82</td>\n",
       "      <td>31.66</td>\n",
       "      <td>8.79</td>\n",
       "      <td>84.8</td>\n",
       "      <td>7.67</td>\n",
       "      <td>2.44</td>\n",
       "      <td>2.0</td>\n",
       "      <td>0.04</td>\n",
       "    </tr>\n",
       "    <tr>\n",
       "      <th>396</th>\n",
       "      <td>Greaves Cotton Ltd.</td>\n",
       "      <td>501455</td>\n",
       "      <td>GREAVESCOT</td>\n",
       "      <td>INE224A01026</td>\n",
       "      <td>Capital Goods</td>\n",
       "      <td>Diesel Engines</td>\n",
       "      <td>2022-09-05</td>\n",
       "      <td>175.10</td>\n",
       "      <td>0.29</td>\n",
       "      <td>129.05</td>\n",
       "      <td>...</td>\n",
       "      <td>0.11</td>\n",
       "      <td>34.08</td>\n",
       "      <td>1.89</td>\n",
       "      <td>-64.59</td>\n",
       "      <td>0.14</td>\n",
       "      <td>32.92</td>\n",
       "      <td>-2.71</td>\n",
       "      <td>-5.35</td>\n",
       "      <td>0.2</td>\n",
       "      <td>0.32</td>\n",
       "    </tr>\n",
       "    <tr>\n",
       "      <th>430</th>\n",
       "      <td>FDC Ltd.</td>\n",
       "      <td>531599</td>\n",
       "      <td>FDC</td>\n",
       "      <td>INE258B01022</td>\n",
       "      <td>Healthcare</td>\n",
       "      <td>Drugs &amp; Pharma</td>\n",
       "      <td>2022-09-05</td>\n",
       "      <td>280.25</td>\n",
       "      <td>2.43</td>\n",
       "      <td>225.00</td>\n",
       "      <td>...</td>\n",
       "      <td>0.00</td>\n",
       "      <td>13.88</td>\n",
       "      <td>2.94</td>\n",
       "      <td>28.68</td>\n",
       "      <td>11.41</td>\n",
       "      <td>122.18</td>\n",
       "      <td>9.58</td>\n",
       "      <td>5.88</td>\n",
       "      <td>0.0</td>\n",
       "      <td>0.25</td>\n",
       "    </tr>\n",
       "  </tbody>\n",
       "</table>\n",
       "<p>4 rows × 42 columns</p>\n",
       "</div>"
      ],
      "text/plain": [
       "                 Company  BSE code    NSE code          ISIN  \\\n",
       "320             NCC Ltd.    500294         NCC  INE868B01028   \n",
       "325     Tata Coffee Ltd.    532301  TATACOFFEE  INE493A01027   \n",
       "396  Greaves Cotton Ltd.    501455  GREAVESCOT  INE224A01026   \n",
       "430             FDC Ltd.    531599         FDC  INE258B01022   \n",
       "\n",
       "               Sector        Industry        Date   Price  1 day change(%)  \\\n",
       "320      Construction    Construction  2022-09-05   74.20            -0.13   \n",
       "325  Consumer Staples    Tea & Coffee  2022-09-05  243.10            -0.57   \n",
       "396     Capital Goods  Diesel Engines  2022-09-05  175.10             0.29   \n",
       "430        Healthcare  Drugs & Pharma  2022-09-05  280.25             2.43   \n",
       "\n",
       "     52 Week Low  ...  Dividend Yield(%) EV / EBITDA Price / Sales  \\\n",
       "320        52.20  ...               2.70        4.44          0.38   \n",
       "325       181.65  ...               0.82       11.41          1.82   \n",
       "396       129.05  ...               0.11       34.08          1.89   \n",
       "430       225.00  ...               0.00       13.88          2.94   \n",
       "\n",
       "    Price / Cash Flow Earning Per Share  Book Value Per Share  \\\n",
       "320              3.29              8.95                 92.65   \n",
       "325             31.66              8.79                  84.8   \n",
       "396            -64.59              0.14                 32.92   \n",
       "430             28.68             11.41                122.18   \n",
       "\n",
       "     Cash Flow Per Share  Free Cash Flow Per Share  Dividend Per Share  Delta  \n",
       "320                23.21                     15.82                 2.0   0.15  \n",
       "325                 7.67                      2.44                 2.0   0.04  \n",
       "396                -2.71                     -5.35                 0.2   0.32  \n",
       "430                 9.58                      5.88                 0.0   0.25  \n",
       "\n",
       "[4 rows x 42 columns]"
      ]
     },
     "execution_count": 48,
     "metadata": {},
     "output_type": "execute_result"
    }
   ],
   "source": [
    "Risk_Taking"
   ]
  },
  {
   "cell_type": "code",
   "execution_count": 49,
   "id": "47fb0f03",
   "metadata": {},
   "outputs": [],
   "source": [
    "Moderate_Risk_Taking = df_stocks[(df_stocks['Delta']>0) & (df_stocks['10-Year Return(%)']>15) & (df_stocks['10-Year Return(%)']<20) & \n",
    "                        (df_stocks['Market Cap(Cr)']>5000)  & (df_stocks['Market Cap(Cr)']<15000)]"
   ]
  },
  {
   "cell_type": "code",
   "execution_count": 50,
   "id": "82299616",
   "metadata": {},
   "outputs": [
    {
     "data": {
      "text/html": [
       "<div>\n",
       "<style scoped>\n",
       "    .dataframe tbody tr th:only-of-type {\n",
       "        vertical-align: middle;\n",
       "    }\n",
       "\n",
       "    .dataframe tbody tr th {\n",
       "        vertical-align: top;\n",
       "    }\n",
       "\n",
       "    .dataframe thead th {\n",
       "        text-align: right;\n",
       "    }\n",
       "</style>\n",
       "<table border=\"1\" class=\"dataframe\">\n",
       "  <thead>\n",
       "    <tr style=\"text-align: right;\">\n",
       "      <th></th>\n",
       "      <th>Company</th>\n",
       "      <th>BSE code</th>\n",
       "      <th>NSE code</th>\n",
       "      <th>ISIN</th>\n",
       "      <th>Sector</th>\n",
       "      <th>Industry</th>\n",
       "      <th>Date</th>\n",
       "      <th>Price</th>\n",
       "      <th>1 day change(%)</th>\n",
       "      <th>52 Week Low</th>\n",
       "      <th>...</th>\n",
       "      <th>Dividend Yield(%)</th>\n",
       "      <th>EV / EBITDA</th>\n",
       "      <th>Price / Sales</th>\n",
       "      <th>Price / Cash Flow</th>\n",
       "      <th>Earning Per Share</th>\n",
       "      <th>Book Value Per Share</th>\n",
       "      <th>Cash Flow Per Share</th>\n",
       "      <th>Free Cash Flow Per Share</th>\n",
       "      <th>Dividend Per Share</th>\n",
       "      <th>Delta</th>\n",
       "    </tr>\n",
       "  </thead>\n",
       "  <tbody>\n",
       "    <tr>\n",
       "      <th>64</th>\n",
       "      <td>Cyient Ltd.</td>\n",
       "      <td>532175</td>\n",
       "      <td>CYIENT</td>\n",
       "      <td>INE136B01020</td>\n",
       "      <td>Technology</td>\n",
       "      <td>Software</td>\n",
       "      <td>2022-09-05</td>\n",
       "      <td>835.20</td>\n",
       "      <td>0.08</td>\n",
       "      <td>720.00</td>\n",
       "      <td>...</td>\n",
       "      <td>2.87</td>\n",
       "      <td>8.65</td>\n",
       "      <td>1.95</td>\n",
       "      <td>14.54</td>\n",
       "      <td>47.38</td>\n",
       "      <td>290.52</td>\n",
       "      <td>57.47</td>\n",
       "      <td>50.05</td>\n",
       "      <td>24.00</td>\n",
       "      <td>0.35</td>\n",
       "    </tr>\n",
       "    <tr>\n",
       "      <th>129</th>\n",
       "      <td>Birla Corporation Ltd.</td>\n",
       "      <td>500335</td>\n",
       "      <td>BIRLACORPN</td>\n",
       "      <td>INE340A01012</td>\n",
       "      <td>Materials</td>\n",
       "      <td>Cement</td>\n",
       "      <td>2022-09-05</td>\n",
       "      <td>1005.05</td>\n",
       "      <td>3.74</td>\n",
       "      <td>823.00</td>\n",
       "      <td>...</td>\n",
       "      <td>1.00</td>\n",
       "      <td>9.62</td>\n",
       "      <td>0.98</td>\n",
       "      <td>5.83</td>\n",
       "      <td>41.43</td>\n",
       "      <td>793.55</td>\n",
       "      <td>172.5</td>\n",
       "      <td>23.02</td>\n",
       "      <td>10.00</td>\n",
       "      <td>0.39</td>\n",
       "    </tr>\n",
       "    <tr>\n",
       "      <th>131</th>\n",
       "      <td>Graphite India Ltd.</td>\n",
       "      <td>509488</td>\n",
       "      <td>GRAPHITE</td>\n",
       "      <td>INE371A01025</td>\n",
       "      <td>Capital Goods</td>\n",
       "      <td>Refractories</td>\n",
       "      <td>2022-09-05</td>\n",
       "      <td>408.45</td>\n",
       "      <td>0.53</td>\n",
       "      <td>350.00</td>\n",
       "      <td>...</td>\n",
       "      <td>2.45</td>\n",
       "      <td>10.8</td>\n",
       "      <td>2.43</td>\n",
       "      <td>-16.32</td>\n",
       "      <td>19.4</td>\n",
       "      <td>254.42</td>\n",
       "      <td>-25.03</td>\n",
       "      <td>-11.36</td>\n",
       "      <td>10.00</td>\n",
       "      <td>0.38</td>\n",
       "    </tr>\n",
       "    <tr>\n",
       "      <th>151</th>\n",
       "      <td>Symphony Ltd.</td>\n",
       "      <td>517385</td>\n",
       "      <td>SYMPHONY</td>\n",
       "      <td>INE225D01027</td>\n",
       "      <td>Consumer Discretionary</td>\n",
       "      <td>ACs &amp; Refrigerators</td>\n",
       "      <td>2022-09-05</td>\n",
       "      <td>925.25</td>\n",
       "      <td>-0.81</td>\n",
       "      <td>828.00</td>\n",
       "      <td>...</td>\n",
       "      <td>0.97</td>\n",
       "      <td>27.78</td>\n",
       "      <td>5.69</td>\n",
       "      <td>113.88</td>\n",
       "      <td>20.44</td>\n",
       "      <td>124.14</td>\n",
       "      <td>8.13</td>\n",
       "      <td>8.51</td>\n",
       "      <td>9.00</td>\n",
       "      <td>0.24</td>\n",
       "    </tr>\n",
       "    <tr>\n",
       "      <th>163</th>\n",
       "      <td>Chambal Fertilisers &amp; Chemicals Ltd.</td>\n",
       "      <td>500085</td>\n",
       "      <td>CHAMBLFERT</td>\n",
       "      <td>INE085A01013</td>\n",
       "      <td>Chemicals</td>\n",
       "      <td>Nitrogenous Fertilizer.</td>\n",
       "      <td>2022-09-05</td>\n",
       "      <td>345.65</td>\n",
       "      <td>-0.04</td>\n",
       "      <td>260.80</td>\n",
       "      <td>...</td>\n",
       "      <td>2.17</td>\n",
       "      <td>7.72</td>\n",
       "      <td>0.73</td>\n",
       "      <td>-593.74</td>\n",
       "      <td>36.67</td>\n",
       "      <td>161.25</td>\n",
       "      <td>-0.58</td>\n",
       "      <td>-16.73</td>\n",
       "      <td>7.50</td>\n",
       "      <td>0.33</td>\n",
       "    </tr>\n",
       "    <tr>\n",
       "      <th>174</th>\n",
       "      <td>Redington India Ltd.</td>\n",
       "      <td>532805</td>\n",
       "      <td>REDINGTON</td>\n",
       "      <td>INE891D01026</td>\n",
       "      <td>Services</td>\n",
       "      <td>Trading</td>\n",
       "      <td>2022-09-05</td>\n",
       "      <td>150.00</td>\n",
       "      <td>1.73</td>\n",
       "      <td>109.40</td>\n",
       "      <td>...</td>\n",
       "      <td>4.40</td>\n",
       "      <td>4.25</td>\n",
       "      <td>0.18</td>\n",
       "      <td>11.84</td>\n",
       "      <td>17.39</td>\n",
       "      <td>78.14</td>\n",
       "      <td>12.66</td>\n",
       "      <td>9.03</td>\n",
       "      <td>6.60</td>\n",
       "      <td>0.16</td>\n",
       "    </tr>\n",
       "    <tr>\n",
       "      <th>177</th>\n",
       "      <td>Kalpataru Power Transmission Ltd.</td>\n",
       "      <td>522287</td>\n",
       "      <td>KALPATPOWR</td>\n",
       "      <td>INE220B01022</td>\n",
       "      <td>Capital Goods</td>\n",
       "      <td>Power Projects</td>\n",
       "      <td>2022-09-05</td>\n",
       "      <td>404.05</td>\n",
       "      <td>0.80</td>\n",
       "      <td>331.80</td>\n",
       "      <td>...</td>\n",
       "      <td>1.61</td>\n",
       "      <td>6.58</td>\n",
       "      <td>0.39</td>\n",
       "      <td>8.43</td>\n",
       "      <td>36.33</td>\n",
       "      <td>293.24</td>\n",
       "      <td>47.93</td>\n",
       "      <td>20.54</td>\n",
       "      <td>6.50</td>\n",
       "      <td>0.11</td>\n",
       "    </tr>\n",
       "    <tr>\n",
       "      <th>187</th>\n",
       "      <td>BASF India Ltd.</td>\n",
       "      <td>500042</td>\n",
       "      <td>BASF</td>\n",
       "      <td>INE373A01013</td>\n",
       "      <td>Chemicals</td>\n",
       "      <td>Pesticides</td>\n",
       "      <td>2022-09-05</td>\n",
       "      <td>3179.75</td>\n",
       "      <td>-0.95</td>\n",
       "      <td>2351.00</td>\n",
       "      <td>...</td>\n",
       "      <td>0.19</td>\n",
       "      <td>14.39</td>\n",
       "      <td>0.99</td>\n",
       "      <td>41.81</td>\n",
       "      <td>137.3</td>\n",
       "      <td>584.1</td>\n",
       "      <td>76.21</td>\n",
       "      <td>68.53</td>\n",
       "      <td>6.00</td>\n",
       "      <td>0.15</td>\n",
       "    </tr>\n",
       "    <tr>\n",
       "      <th>209</th>\n",
       "      <td>JK Lakshmi Cement Ltd.</td>\n",
       "      <td>500380</td>\n",
       "      <td>JKLAKSHMI</td>\n",
       "      <td>INE786A01032</td>\n",
       "      <td>Materials</td>\n",
       "      <td>Cement</td>\n",
       "      <td>2022-09-05</td>\n",
       "      <td>468.05</td>\n",
       "      <td>-0.57</td>\n",
       "      <td>366.25</td>\n",
       "      <td>...</td>\n",
       "      <td>1.07</td>\n",
       "      <td>6.14</td>\n",
       "      <td>0.96</td>\n",
       "      <td>8.1</td>\n",
       "      <td>37.68</td>\n",
       "      <td>222.51</td>\n",
       "      <td>57.78</td>\n",
       "      <td>14.59</td>\n",
       "      <td>5.00</td>\n",
       "      <td>0.37</td>\n",
       "    </tr>\n",
       "    <tr>\n",
       "      <th>218</th>\n",
       "      <td>Zensar Technologies Ltd.</td>\n",
       "      <td>504067</td>\n",
       "      <td>ZENSARTECH</td>\n",
       "      <td>INE520A01027</td>\n",
       "      <td>Technology</td>\n",
       "      <td>Software</td>\n",
       "      <td>2022-09-05</td>\n",
       "      <td>230.75</td>\n",
       "      <td>0.20</td>\n",
       "      <td>221.75</td>\n",
       "      <td>...</td>\n",
       "      <td>2.17</td>\n",
       "      <td>5.51</td>\n",
       "      <td>1.16</td>\n",
       "      <td>15.61</td>\n",
       "      <td>17.25</td>\n",
       "      <td>121.02</td>\n",
       "      <td>14.81</td>\n",
       "      <td>13.58</td>\n",
       "      <td>5.00</td>\n",
       "      <td>0.61</td>\n",
       "    </tr>\n",
       "    <tr>\n",
       "      <th>219</th>\n",
       "      <td>Zydus Wellness Ltd.</td>\n",
       "      <td>531335</td>\n",
       "      <td>ZYDUSWELL</td>\n",
       "      <td>INE768C01010</td>\n",
       "      <td>Consumer Staples</td>\n",
       "      <td>Food Processing</td>\n",
       "      <td>2022-09-05</td>\n",
       "      <td>1634.00</td>\n",
       "      <td>0.64</td>\n",
       "      <td>1430.00</td>\n",
       "      <td>...</td>\n",
       "      <td>0.31</td>\n",
       "      <td>29.04</td>\n",
       "      <td>5.02</td>\n",
       "      <td>44.41</td>\n",
       "      <td>49.52</td>\n",
       "      <td>782.79</td>\n",
       "      <td>37.22</td>\n",
       "      <td>23.69</td>\n",
       "      <td>5.00</td>\n",
       "      <td>0.34</td>\n",
       "    </tr>\n",
       "    <tr>\n",
       "      <th>255</th>\n",
       "      <td>Allcargo Logistics Ltd.</td>\n",
       "      <td>532749</td>\n",
       "      <td>ALLCARGO</td>\n",
       "      <td>INE418H01029</td>\n",
       "      <td>Services</td>\n",
       "      <td>Logistics</td>\n",
       "      <td>2022-09-05</td>\n",
       "      <td>338.10</td>\n",
       "      <td>-3.30</td>\n",
       "      <td>220.55</td>\n",
       "      <td>...</td>\n",
       "      <td>0.89</td>\n",
       "      <td>5.4</td>\n",
       "      <td>0.37</td>\n",
       "      <td>9.77</td>\n",
       "      <td>43.69</td>\n",
       "      <td>139.24</td>\n",
       "      <td>34.61</td>\n",
       "      <td>16.55</td>\n",
       "      <td>3.00</td>\n",
       "      <td>0.18</td>\n",
       "    </tr>\n",
       "    <tr>\n",
       "      <th>279</th>\n",
       "      <td>Triveni Turbine Ltd.</td>\n",
       "      <td>533655</td>\n",
       "      <td>TRITURBINE</td>\n",
       "      <td>INE152M01016</td>\n",
       "      <td>Capital Goods</td>\n",
       "      <td>Industrial Machinery</td>\n",
       "      <td>2022-09-05</td>\n",
       "      <td>231.25</td>\n",
       "      <td>8.09</td>\n",
       "      <td>131.00</td>\n",
       "      <td>...</td>\n",
       "      <td>1.10</td>\n",
       "      <td>29.83</td>\n",
       "      <td>8.08</td>\n",
       "      <td>17.28</td>\n",
       "      <td>8.68</td>\n",
       "      <td>27.68</td>\n",
       "      <td>13.41</td>\n",
       "      <td>13.49</td>\n",
       "      <td>2.55</td>\n",
       "      <td>0.05</td>\n",
       "    </tr>\n",
       "    <tr>\n",
       "      <th>281</th>\n",
       "      <td>Balrampur Chini Mills Ltd.</td>\n",
       "      <td>500038</td>\n",
       "      <td>BALRAMCHIN</td>\n",
       "      <td>INE119A01028</td>\n",
       "      <td>Consumer Staples</td>\n",
       "      <td>Sugar</td>\n",
       "      <td>2022-09-05</td>\n",
       "      <td>362.10</td>\n",
       "      <td>0.29</td>\n",
       "      <td>297.60</td>\n",
       "      <td>...</td>\n",
       "      <td>0.69</td>\n",
       "      <td>13.14</td>\n",
       "      <td>1.54</td>\n",
       "      <td>10.64</td>\n",
       "      <td>19.61</td>\n",
       "      <td>136.3</td>\n",
       "      <td>34.04</td>\n",
       "      <td>11.7</td>\n",
       "      <td>2.50</td>\n",
       "      <td>0.31</td>\n",
       "    </tr>\n",
       "    <tr>\n",
       "      <th>288</th>\n",
       "      <td>Mahindra CIE Automotive Ltd.</td>\n",
       "      <td>532756</td>\n",
       "      <td>MAHINDCIE</td>\n",
       "      <td>INE536H01010</td>\n",
       "      <td>Metals &amp; Mining</td>\n",
       "      <td>Castings &amp; Forgings</td>\n",
       "      <td>2022-09-05</td>\n",
       "      <td>273.10</td>\n",
       "      <td>-0.16</td>\n",
       "      <td>163.95</td>\n",
       "      <td>...</td>\n",
       "      <td>0.91</td>\n",
       "      <td>9.7</td>\n",
       "      <td>1.1</td>\n",
       "      <td>9.88</td>\n",
       "      <td>15.73</td>\n",
       "      <td>142.35</td>\n",
       "      <td>27.73</td>\n",
       "      <td>9.09</td>\n",
       "      <td>2.50</td>\n",
       "      <td>0.12</td>\n",
       "    </tr>\n",
       "    <tr>\n",
       "      <th>318</th>\n",
       "      <td>Mahindra Lifespace Developers Ltd.</td>\n",
       "      <td>532313</td>\n",
       "      <td>MAHLIFE</td>\n",
       "      <td>INE813A01018</td>\n",
       "      <td>Construction</td>\n",
       "      <td>Real Estate</td>\n",
       "      <td>2022-09-05</td>\n",
       "      <td>519.55</td>\n",
       "      <td>0.63</td>\n",
       "      <td>218.50</td>\n",
       "      <td>...</td>\n",
       "      <td>0.38</td>\n",
       "      <td>-128.71</td>\n",
       "      <td>23.66</td>\n",
       "      <td>-154.65</td>\n",
       "      <td>15.77</td>\n",
       "      <td>116.28</td>\n",
       "      <td>-3.37</td>\n",
       "      <td>12.32</td>\n",
       "      <td>2.00</td>\n",
       "      <td>0.03</td>\n",
       "    </tr>\n",
       "    <tr>\n",
       "      <th>333</th>\n",
       "      <td>JM Financial Ltd.</td>\n",
       "      <td>523405</td>\n",
       "      <td>JMFINANCIL</td>\n",
       "      <td>INE780C01023</td>\n",
       "      <td>Financial</td>\n",
       "      <td>Misc. Fin.services</td>\n",
       "      <td>2022-09-05</td>\n",
       "      <td>65.05</td>\n",
       "      <td>1.80</td>\n",
       "      <td>57.10</td>\n",
       "      <td>...</td>\n",
       "      <td>2.54</td>\n",
       "      <td>5.9</td>\n",
       "      <td>2.02</td>\n",
       "      <td>-1.94</td>\n",
       "      <td>7.75</td>\n",
       "      <td>82.4</td>\n",
       "      <td>-33.57</td>\n",
       "      <td>-29.13</td>\n",
       "      <td>1.65</td>\n",
       "      <td>0.33</td>\n",
       "    </tr>\n",
       "    <tr>\n",
       "      <th>363</th>\n",
       "      <td>City Union Bank Ltd.</td>\n",
       "      <td>532210</td>\n",
       "      <td>CUB</td>\n",
       "      <td>INE491A01021</td>\n",
       "      <td>Financial</td>\n",
       "      <td>Banking</td>\n",
       "      <td>2022-09-05</td>\n",
       "      <td>178.70</td>\n",
       "      <td>-0.78</td>\n",
       "      <td>110.50</td>\n",
       "      <td>...</td>\n",
       "      <td>0.56</td>\n",
       "      <td>7.18</td>\n",
       "      <td>3.14</td>\n",
       "      <td>11.35</td>\n",
       "      <td>10.98</td>\n",
       "      <td>92.09</td>\n",
       "      <td>15.76</td>\n",
       "      <td>7.18</td>\n",
       "      <td>1.00</td>\n",
       "      <td>0.07</td>\n",
       "    </tr>\n",
       "    <tr>\n",
       "      <th>369</th>\n",
       "      <td>Rain Industries Ltd.</td>\n",
       "      <td>500339</td>\n",
       "      <td>RAIN</td>\n",
       "      <td>INE855B01025</td>\n",
       "      <td>Chemicals</td>\n",
       "      <td>Misc.Chem.</td>\n",
       "      <td>2022-09-05</td>\n",
       "      <td>203.90</td>\n",
       "      <td>3.71</td>\n",
       "      <td>128.60</td>\n",
       "      <td>...</td>\n",
       "      <td>0.49</td>\n",
       "      <td>4.19</td>\n",
       "      <td>0.38</td>\n",
       "      <td>8.23</td>\n",
       "      <td>32.24</td>\n",
       "      <td>220.92</td>\n",
       "      <td>24.78</td>\n",
       "      <td>-5.89</td>\n",
       "      <td>1.00</td>\n",
       "      <td>0.21</td>\n",
       "    </tr>\n",
       "    <tr>\n",
       "      <th>377</th>\n",
       "      <td>Cholamandalam Financial Holdings Ltd.</td>\n",
       "      <td>504973</td>\n",
       "      <td>CHOLAHLDNG</td>\n",
       "      <td>INE149A01033</td>\n",
       "      <td>Financial</td>\n",
       "      <td>Misc. Fin.services</td>\n",
       "      <td>2022-09-05</td>\n",
       "      <td>648.75</td>\n",
       "      <td>-1.07</td>\n",
       "      <td>564.05</td>\n",
       "      <td>...</td>\n",
       "      <td>0.08</td>\n",
       "      <td>9.66</td>\n",
       "      <td>1.07</td>\n",
       "      <td>-2.12</td>\n",
       "      <td>59.87</td>\n",
       "      <td>371.74</td>\n",
       "      <td>-305.73</td>\n",
       "      <td>-355.88</td>\n",
       "      <td>0.55</td>\n",
       "      <td>0.15</td>\n",
       "    </tr>\n",
       "    <tr>\n",
       "      <th>384</th>\n",
       "      <td>Sterlite Technologies Ltd.</td>\n",
       "      <td>532374</td>\n",
       "      <td>STLTECH</td>\n",
       "      <td>INE089C01029</td>\n",
       "      <td>Communication</td>\n",
       "      <td>Communication Equipment</td>\n",
       "      <td>2022-09-05</td>\n",
       "      <td>171.65</td>\n",
       "      <td>1.30</td>\n",
       "      <td>128.60</td>\n",
       "      <td>...</td>\n",
       "      <td>0.29</td>\n",
       "      <td>20.06</td>\n",
       "      <td>1.14</td>\n",
       "      <td>11.91</td>\n",
       "      <td>-1.85</td>\n",
       "      <td>47.94</td>\n",
       "      <td>14.43</td>\n",
       "      <td>-5.26</td>\n",
       "      <td>0.50</td>\n",
       "      <td>0.46</td>\n",
       "    </tr>\n",
       "    <tr>\n",
       "      <th>385</th>\n",
       "      <td>NBCC India Ltd.</td>\n",
       "      <td>534309</td>\n",
       "      <td>NBCC</td>\n",
       "      <td>INE095N01031</td>\n",
       "      <td>Construction</td>\n",
       "      <td>Real Estate</td>\n",
       "      <td>2022-09-05</td>\n",
       "      <td>34.60</td>\n",
       "      <td>1.02</td>\n",
       "      <td>26.55</td>\n",
       "      <td>...</td>\n",
       "      <td>1.45</td>\n",
       "      <td>1.03</td>\n",
       "      <td>0.77</td>\n",
       "      <td>14.46</td>\n",
       "      <td>1.02</td>\n",
       "      <td>9.79</td>\n",
       "      <td>2.39</td>\n",
       "      <td>2.95</td>\n",
       "      <td>0.47</td>\n",
       "      <td>0.36</td>\n",
       "    </tr>\n",
       "    <tr>\n",
       "      <th>450</th>\n",
       "      <td>ITI Ltd.</td>\n",
       "      <td>523610</td>\n",
       "      <td>ITI</td>\n",
       "      <td>INE248A01017</td>\n",
       "      <td>Communication</td>\n",
       "      <td>Communication Equipment</td>\n",
       "      <td>2022-09-05</td>\n",
       "      <td>115.30</td>\n",
       "      <td>1.81</td>\n",
       "      <td>81.00</td>\n",
       "      <td>...</td>\n",
       "      <td>0.00</td>\n",
       "      <td>32.75</td>\n",
       "      <td>6.04</td>\n",
       "      <td>114.22</td>\n",
       "      <td>1.15</td>\n",
       "      <td>27.53</td>\n",
       "      <td>1.02</td>\n",
       "      <td>-0.19</td>\n",
       "      <td>0.00</td>\n",
       "      <td>0.14</td>\n",
       "    </tr>\n",
       "  </tbody>\n",
       "</table>\n",
       "<p>23 rows × 42 columns</p>\n",
       "</div>"
      ],
      "text/plain": [
       "                                   Company  BSE code    NSE code  \\\n",
       "64                             Cyient Ltd.    532175      CYIENT   \n",
       "129                 Birla Corporation Ltd.    500335  BIRLACORPN   \n",
       "131                    Graphite India Ltd.    509488    GRAPHITE   \n",
       "151                          Symphony Ltd.    517385    SYMPHONY   \n",
       "163   Chambal Fertilisers & Chemicals Ltd.    500085  CHAMBLFERT   \n",
       "174                   Redington India Ltd.    532805   REDINGTON   \n",
       "177      Kalpataru Power Transmission Ltd.    522287  KALPATPOWR   \n",
       "187                        BASF India Ltd.    500042        BASF   \n",
       "209                 JK Lakshmi Cement Ltd.    500380   JKLAKSHMI   \n",
       "218               Zensar Technologies Ltd.    504067  ZENSARTECH   \n",
       "219                    Zydus Wellness Ltd.    531335   ZYDUSWELL   \n",
       "255                Allcargo Logistics Ltd.    532749    ALLCARGO   \n",
       "279                   Triveni Turbine Ltd.    533655  TRITURBINE   \n",
       "281             Balrampur Chini Mills Ltd.    500038  BALRAMCHIN   \n",
       "288           Mahindra CIE Automotive Ltd.    532756   MAHINDCIE   \n",
       "318     Mahindra Lifespace Developers Ltd.    532313     MAHLIFE   \n",
       "333                      JM Financial Ltd.    523405  JMFINANCIL   \n",
       "363                   City Union Bank Ltd.    532210         CUB   \n",
       "369                   Rain Industries Ltd.    500339        RAIN   \n",
       "377  Cholamandalam Financial Holdings Ltd.    504973  CHOLAHLDNG   \n",
       "384             Sterlite Technologies Ltd.    532374     STLTECH   \n",
       "385                        NBCC India Ltd.    534309        NBCC   \n",
       "450                               ITI Ltd.    523610         ITI   \n",
       "\n",
       "             ISIN                  Sector                 Industry  \\\n",
       "64   INE136B01020              Technology                 Software   \n",
       "129  INE340A01012               Materials                   Cement   \n",
       "131  INE371A01025           Capital Goods             Refractories   \n",
       "151  INE225D01027  Consumer Discretionary      ACs & Refrigerators   \n",
       "163  INE085A01013               Chemicals  Nitrogenous Fertilizer.   \n",
       "174  INE891D01026                Services                  Trading   \n",
       "177  INE220B01022           Capital Goods           Power Projects   \n",
       "187  INE373A01013               Chemicals               Pesticides   \n",
       "209  INE786A01032               Materials                   Cement   \n",
       "218  INE520A01027              Technology                 Software   \n",
       "219  INE768C01010        Consumer Staples          Food Processing   \n",
       "255  INE418H01029                Services                Logistics   \n",
       "279  INE152M01016           Capital Goods     Industrial Machinery   \n",
       "281  INE119A01028        Consumer Staples                    Sugar   \n",
       "288  INE536H01010         Metals & Mining      Castings & Forgings   \n",
       "318  INE813A01018            Construction              Real Estate   \n",
       "333  INE780C01023               Financial       Misc. Fin.services   \n",
       "363  INE491A01021               Financial                  Banking   \n",
       "369  INE855B01025               Chemicals               Misc.Chem.   \n",
       "377  INE149A01033               Financial       Misc. Fin.services   \n",
       "384  INE089C01029           Communication  Communication Equipment   \n",
       "385  INE095N01031            Construction              Real Estate   \n",
       "450  INE248A01017           Communication  Communication Equipment   \n",
       "\n",
       "           Date    Price  1 day change(%)  52 Week Low  ...  \\\n",
       "64   2022-09-05   835.20             0.08       720.00  ...   \n",
       "129  2022-09-05  1005.05             3.74       823.00  ...   \n",
       "131  2022-09-05   408.45             0.53       350.00  ...   \n",
       "151  2022-09-05   925.25            -0.81       828.00  ...   \n",
       "163  2022-09-05   345.65            -0.04       260.80  ...   \n",
       "174  2022-09-05   150.00             1.73       109.40  ...   \n",
       "177  2022-09-05   404.05             0.80       331.80  ...   \n",
       "187  2022-09-05  3179.75            -0.95      2351.00  ...   \n",
       "209  2022-09-05   468.05            -0.57       366.25  ...   \n",
       "218  2022-09-05   230.75             0.20       221.75  ...   \n",
       "219  2022-09-05  1634.00             0.64      1430.00  ...   \n",
       "255  2022-09-05   338.10            -3.30       220.55  ...   \n",
       "279  2022-09-05   231.25             8.09       131.00  ...   \n",
       "281  2022-09-05   362.10             0.29       297.60  ...   \n",
       "288  2022-09-05   273.10            -0.16       163.95  ...   \n",
       "318  2022-09-05   519.55             0.63       218.50  ...   \n",
       "333  2022-09-05    65.05             1.80        57.10  ...   \n",
       "363  2022-09-05   178.70            -0.78       110.50  ...   \n",
       "369  2022-09-05   203.90             3.71       128.60  ...   \n",
       "377  2022-09-05   648.75            -1.07       564.05  ...   \n",
       "384  2022-09-05   171.65             1.30       128.60  ...   \n",
       "385  2022-09-05    34.60             1.02        26.55  ...   \n",
       "450  2022-09-05   115.30             1.81        81.00  ...   \n",
       "\n",
       "     Dividend Yield(%) EV / EBITDA Price / Sales Price / Cash Flow  \\\n",
       "64                2.87        8.65          1.95             14.54   \n",
       "129               1.00        9.62          0.98              5.83   \n",
       "131               2.45        10.8          2.43            -16.32   \n",
       "151               0.97       27.78          5.69            113.88   \n",
       "163               2.17        7.72          0.73           -593.74   \n",
       "174               4.40        4.25          0.18             11.84   \n",
       "177               1.61        6.58          0.39              8.43   \n",
       "187               0.19       14.39          0.99             41.81   \n",
       "209               1.07        6.14          0.96               8.1   \n",
       "218               2.17        5.51          1.16             15.61   \n",
       "219               0.31       29.04          5.02             44.41   \n",
       "255               0.89         5.4          0.37              9.77   \n",
       "279               1.10       29.83          8.08             17.28   \n",
       "281               0.69       13.14          1.54             10.64   \n",
       "288               0.91         9.7           1.1              9.88   \n",
       "318               0.38     -128.71         23.66           -154.65   \n",
       "333               2.54         5.9          2.02             -1.94   \n",
       "363               0.56        7.18          3.14             11.35   \n",
       "369               0.49        4.19          0.38              8.23   \n",
       "377               0.08        9.66          1.07             -2.12   \n",
       "384               0.29       20.06          1.14             11.91   \n",
       "385               1.45        1.03          0.77             14.46   \n",
       "450               0.00       32.75          6.04            114.22   \n",
       "\n",
       "    Earning Per Share  Book Value Per Share  Cash Flow Per Share  \\\n",
       "64              47.38                290.52                57.47   \n",
       "129             41.43                793.55                172.5   \n",
       "131              19.4                254.42               -25.03   \n",
       "151             20.44                124.14                 8.13   \n",
       "163             36.67                161.25                -0.58   \n",
       "174             17.39                 78.14                12.66   \n",
       "177             36.33                293.24                47.93   \n",
       "187             137.3                 584.1                76.21   \n",
       "209             37.68                222.51                57.78   \n",
       "218             17.25                121.02                14.81   \n",
       "219             49.52                782.79                37.22   \n",
       "255             43.69                139.24                34.61   \n",
       "279              8.68                 27.68                13.41   \n",
       "281             19.61                 136.3                34.04   \n",
       "288             15.73                142.35                27.73   \n",
       "318             15.77                116.28                -3.37   \n",
       "333              7.75                  82.4               -33.57   \n",
       "363             10.98                 92.09                15.76   \n",
       "369             32.24                220.92                24.78   \n",
       "377             59.87                371.74              -305.73   \n",
       "384             -1.85                 47.94                14.43   \n",
       "385              1.02                  9.79                 2.39   \n",
       "450              1.15                 27.53                 1.02   \n",
       "\n",
       "     Free Cash Flow Per Share  Dividend Per Share  Delta  \n",
       "64                      50.05               24.00   0.35  \n",
       "129                     23.02               10.00   0.39  \n",
       "131                    -11.36               10.00   0.38  \n",
       "151                      8.51                9.00   0.24  \n",
       "163                    -16.73                7.50   0.33  \n",
       "174                      9.03                6.60   0.16  \n",
       "177                     20.54                6.50   0.11  \n",
       "187                     68.53                6.00   0.15  \n",
       "209                     14.59                5.00   0.37  \n",
       "218                     13.58                5.00   0.61  \n",
       "219                     23.69                5.00   0.34  \n",
       "255                     16.55                3.00   0.18  \n",
       "279                     13.49                2.55   0.05  \n",
       "281                      11.7                2.50   0.31  \n",
       "288                      9.09                2.50   0.12  \n",
       "318                     12.32                2.00   0.03  \n",
       "333                    -29.13                1.65   0.33  \n",
       "363                      7.18                1.00   0.07  \n",
       "369                     -5.89                1.00   0.21  \n",
       "377                   -355.88                0.55   0.15  \n",
       "384                     -5.26                0.50   0.46  \n",
       "385                      2.95                0.47   0.36  \n",
       "450                     -0.19                0.00   0.14  \n",
       "\n",
       "[23 rows x 42 columns]"
      ]
     },
     "execution_count": 50,
     "metadata": {},
     "output_type": "execute_result"
    }
   ],
   "source": [
    "Moderate_Risk_Taking"
   ]
  },
  {
   "cell_type": "code",
   "execution_count": 51,
   "id": "adb04ece",
   "metadata": {},
   "outputs": [],
   "source": [
    "Low_risk_taking =  df_stocks[(df_stocks['Delta']>0) & (df_stocks['10-Year Return(%)']>20) & (df_stocks['Market Cap(Cr)']>15000)]"
   ]
  },
  {
   "cell_type": "code",
   "execution_count": 52,
   "id": "09d700de",
   "metadata": {},
   "outputs": [
    {
     "data": {
      "text/html": [
       "<div>\n",
       "<style scoped>\n",
       "    .dataframe tbody tr th:only-of-type {\n",
       "        vertical-align: middle;\n",
       "    }\n",
       "\n",
       "    .dataframe tbody tr th {\n",
       "        vertical-align: top;\n",
       "    }\n",
       "\n",
       "    .dataframe thead th {\n",
       "        text-align: right;\n",
       "    }\n",
       "</style>\n",
       "<table border=\"1\" class=\"dataframe\">\n",
       "  <thead>\n",
       "    <tr style=\"text-align: right;\">\n",
       "      <th></th>\n",
       "      <th>Company</th>\n",
       "      <th>BSE code</th>\n",
       "      <th>NSE code</th>\n",
       "      <th>ISIN</th>\n",
       "      <th>Sector</th>\n",
       "      <th>Industry</th>\n",
       "      <th>Date</th>\n",
       "      <th>Price</th>\n",
       "      <th>1 day change(%)</th>\n",
       "      <th>52 Week Low</th>\n",
       "      <th>...</th>\n",
       "      <th>Dividend Yield(%)</th>\n",
       "      <th>EV / EBITDA</th>\n",
       "      <th>Price / Sales</th>\n",
       "      <th>Price / Cash Flow</th>\n",
       "      <th>Earning Per Share</th>\n",
       "      <th>Book Value Per Share</th>\n",
       "      <th>Cash Flow Per Share</th>\n",
       "      <th>Free Cash Flow Per Share</th>\n",
       "      <th>Dividend Per Share</th>\n",
       "      <th>Delta</th>\n",
       "    </tr>\n",
       "  </thead>\n",
       "  <tbody>\n",
       "    <tr>\n",
       "      <th>1</th>\n",
       "      <td>Page Industries Ltd.</td>\n",
       "      <td>532827</td>\n",
       "      <td>PAGEIND</td>\n",
       "      <td>INE761H01022</td>\n",
       "      <td>Textiles</td>\n",
       "      <td>Readymade Garments</td>\n",
       "      <td>2022-09-05</td>\n",
       "      <td>49786.20</td>\n",
       "      <td>-0.26</td>\n",
       "      <td>31500.00</td>\n",
       "      <td>...</td>\n",
       "      <td>0.74</td>\n",
       "      <td>51.79</td>\n",
       "      <td>11.75</td>\n",
       "      <td>169.84</td>\n",
       "      <td>656.83</td>\n",
       "      <td>1161.63</td>\n",
       "      <td>293.09</td>\n",
       "      <td>191.03</td>\n",
       "      <td>370.00</td>\n",
       "      <td>0.03</td>\n",
       "    </tr>\n",
       "    <tr>\n",
       "      <th>3</th>\n",
       "      <td>Abbott India Ltd.</td>\n",
       "      <td>500488</td>\n",
       "      <td>ABBOTINDIA</td>\n",
       "      <td>INE358A01014</td>\n",
       "      <td>Healthcare</td>\n",
       "      <td>Drugs &amp; Pharma</td>\n",
       "      <td>2022-09-05</td>\n",
       "      <td>18209.00</td>\n",
       "      <td>-1.26</td>\n",
       "      <td>15514.00</td>\n",
       "      <td>...</td>\n",
       "      <td>1.51</td>\n",
       "      <td>30.98</td>\n",
       "      <td>7.73</td>\n",
       "      <td>40.84</td>\n",
       "      <td>380.52</td>\n",
       "      <td>1403.0</td>\n",
       "      <td>445.96</td>\n",
       "      <td>446.9</td>\n",
       "      <td>275.00</td>\n",
       "      <td>0.24</td>\n",
       "    </tr>\n",
       "    <tr>\n",
       "      <th>8</th>\n",
       "      <td>MRF Ltd.</td>\n",
       "      <td>500290</td>\n",
       "      <td>MRF</td>\n",
       "      <td>INE883A01011</td>\n",
       "      <td>Automobile</td>\n",
       "      <td>Tyres &amp; Tubes</td>\n",
       "      <td>2022-09-05</td>\n",
       "      <td>84254.05</td>\n",
       "      <td>-0.12</td>\n",
       "      <td>63000.00</td>\n",
       "      <td>...</td>\n",
       "      <td>0.18</td>\n",
       "      <td>15.57</td>\n",
       "      <td>1.72</td>\n",
       "      <td>-61.82</td>\n",
       "      <td>1478.99</td>\n",
       "      <td>33376.26</td>\n",
       "      <td>-1363.28</td>\n",
       "      <td>-5522.36</td>\n",
       "      <td>150.00</td>\n",
       "      <td>0.06</td>\n",
       "    </tr>\n",
       "    <tr>\n",
       "      <th>13</th>\n",
       "      <td>Bajaj Holdings &amp; Investment Ltd.</td>\n",
       "      <td>500490</td>\n",
       "      <td>BAJAJHLDNG</td>\n",
       "      <td>INE118A01012</td>\n",
       "      <td>Financial</td>\n",
       "      <td>Investment Services</td>\n",
       "      <td>2022-09-05</td>\n",
       "      <td>5672.75</td>\n",
       "      <td>0.40</td>\n",
       "      <td>4231.25</td>\n",
       "      <td>...</td>\n",
       "      <td>2.03</td>\n",
       "      <td>176.36</td>\n",
       "      <td>163.59</td>\n",
       "      <td>39.22</td>\n",
       "      <td>381.55</td>\n",
       "      <td>3853.51</td>\n",
       "      <td>144.64</td>\n",
       "      <td>29.02</td>\n",
       "      <td>115.00</td>\n",
       "      <td>0.14</td>\n",
       "    </tr>\n",
       "    <tr>\n",
       "      <th>16</th>\n",
       "      <td>Honeywell Automation India Ltd.</td>\n",
       "      <td>517174</td>\n",
       "      <td>HONAUT</td>\n",
       "      <td>INE671A01010</td>\n",
       "      <td>Capital Goods</td>\n",
       "      <td>Electronic Components</td>\n",
       "      <td>2022-09-05</td>\n",
       "      <td>41954.05</td>\n",
       "      <td>-0.59</td>\n",
       "      <td>30185.35</td>\n",
       "      <td>...</td>\n",
       "      <td>0.21</td>\n",
       "      <td>66.82</td>\n",
       "      <td>12.14</td>\n",
       "      <td>140.56</td>\n",
       "      <td>395.37</td>\n",
       "      <td>3313.31</td>\n",
       "      <td>298.17</td>\n",
       "      <td>384.59</td>\n",
       "      <td>90.00</td>\n",
       "      <td>0.11</td>\n",
       "    </tr>\n",
       "    <tr>\n",
       "      <th>...</th>\n",
       "      <td>...</td>\n",
       "      <td>...</td>\n",
       "      <td>...</td>\n",
       "      <td>...</td>\n",
       "      <td>...</td>\n",
       "      <td>...</td>\n",
       "      <td>...</td>\n",
       "      <td>...</td>\n",
       "      <td>...</td>\n",
       "      <td>...</td>\n",
       "      <td>...</td>\n",
       "      <td>...</td>\n",
       "      <td>...</td>\n",
       "      <td>...</td>\n",
       "      <td>...</td>\n",
       "      <td>...</td>\n",
       "      <td>...</td>\n",
       "      <td>...</td>\n",
       "      <td>...</td>\n",
       "      <td>...</td>\n",
       "      <td>...</td>\n",
       "    </tr>\n",
       "    <tr>\n",
       "      <th>380</th>\n",
       "      <td>Biocon Ltd.</td>\n",
       "      <td>532523</td>\n",
       "      <td>BIOCON</td>\n",
       "      <td>INE376G01013</td>\n",
       "      <td>Healthcare</td>\n",
       "      <td>Drugs &amp; Pharma</td>\n",
       "      <td>2022-09-05</td>\n",
       "      <td>292.80</td>\n",
       "      <td>-0.95</td>\n",
       "      <td>290.65</td>\n",
       "      <td>...</td>\n",
       "      <td>0.17</td>\n",
       "      <td>16.83</td>\n",
       "      <td>4.1</td>\n",
       "      <td>29.87</td>\n",
       "      <td>5.9</td>\n",
       "      <td>70.28</td>\n",
       "      <td>9.8</td>\n",
       "      <td>-7.68</td>\n",
       "      <td>0.50</td>\n",
       "      <td>0.29</td>\n",
       "    </tr>\n",
       "    <tr>\n",
       "      <th>388</th>\n",
       "      <td>Trident Ltd.</td>\n",
       "      <td>521064</td>\n",
       "      <td>TRIDENT</td>\n",
       "      <td>INE064C01022</td>\n",
       "      <td>Textiles</td>\n",
       "      <td>Cotton &amp; Blended Yarn</td>\n",
       "      <td>2022-09-05</td>\n",
       "      <td>40.95</td>\n",
       "      <td>3.02</td>\n",
       "      <td>23.10</td>\n",
       "      <td>...</td>\n",
       "      <td>0.88</td>\n",
       "      <td>14.95</td>\n",
       "      <td>2.89</td>\n",
       "      <td>23.12</td>\n",
       "      <td>1.48</td>\n",
       "      <td>7.8</td>\n",
       "      <td>1.77</td>\n",
       "      <td>0.87</td>\n",
       "      <td>0.36</td>\n",
       "      <td>0.42</td>\n",
       "    </tr>\n",
       "    <tr>\n",
       "      <th>398</th>\n",
       "      <td>KPR Mills Ltd.</td>\n",
       "      <td>532889</td>\n",
       "      <td>KPRMILL</td>\n",
       "      <td>INE930H01031</td>\n",
       "      <td>Textiles</td>\n",
       "      <td>Cotton &amp; Blended Yarn</td>\n",
       "      <td>2022-09-05</td>\n",
       "      <td>596.80</td>\n",
       "      <td>0.86</td>\n",
       "      <td>390.24</td>\n",
       "      <td>...</td>\n",
       "      <td>0.03</td>\n",
       "      <td>14.65</td>\n",
       "      <td>3.84</td>\n",
       "      <td>41.36</td>\n",
       "      <td>26.34</td>\n",
       "      <td>99.86</td>\n",
       "      <td>14.36</td>\n",
       "      <td>-12.23</td>\n",
       "      <td>0.15</td>\n",
       "      <td>0.23</td>\n",
       "    </tr>\n",
       "    <tr>\n",
       "      <th>408</th>\n",
       "      <td>Adani Power Ltd.</td>\n",
       "      <td>533096</td>\n",
       "      <td>ADANIPOWER</td>\n",
       "      <td>INE814H01011</td>\n",
       "      <td>Energy</td>\n",
       "      <td>Electricity Generation</td>\n",
       "      <td>2022-09-05</td>\n",
       "      <td>389.85</td>\n",
       "      <td>-2.84</td>\n",
       "      <td>89.20</td>\n",
       "      <td>...</td>\n",
       "      <td>0.00</td>\n",
       "      <td>10.57</td>\n",
       "      <td>4.32</td>\n",
       "      <td>14.71</td>\n",
       "      <td>24.41</td>\n",
       "      <td>60.89</td>\n",
       "      <td>26.53</td>\n",
       "      <td>12.7</td>\n",
       "      <td>0.00</td>\n",
       "      <td>0.10</td>\n",
       "    </tr>\n",
       "    <tr>\n",
       "      <th>489</th>\n",
       "      <td>Tata Teleservices (Maharashtra) Ltd.</td>\n",
       "      <td>532371</td>\n",
       "      <td>TTML</td>\n",
       "      <td>INE517B01013</td>\n",
       "      <td>Communication</td>\n",
       "      <td>Telecom Services</td>\n",
       "      <td>2022-09-05</td>\n",
       "      <td>132.75</td>\n",
       "      <td>-1.85</td>\n",
       "      <td>33.30</td>\n",
       "      <td>...</td>\n",
       "      <td>0.00</td>\n",
       "      <td>94.59</td>\n",
       "      <td>23.73</td>\n",
       "      <td>48.69</td>\n",
       "      <td>-6.1</td>\n",
       "      <td>-97.84</td>\n",
       "      <td>2.72</td>\n",
       "      <td>-5.74</td>\n",
       "      <td>0.00</td>\n",
       "      <td>0.54</td>\n",
       "    </tr>\n",
       "  </tbody>\n",
       "</table>\n",
       "<p>78 rows × 42 columns</p>\n",
       "</div>"
      ],
      "text/plain": [
       "                                  Company  BSE code    NSE code          ISIN  \\\n",
       "1                    Page Industries Ltd.    532827     PAGEIND  INE761H01022   \n",
       "3                       Abbott India Ltd.    500488  ABBOTINDIA  INE358A01014   \n",
       "8                                MRF Ltd.    500290         MRF  INE883A01011   \n",
       "13       Bajaj Holdings & Investment Ltd.    500490  BAJAJHLDNG  INE118A01012   \n",
       "16        Honeywell Automation India Ltd.    517174      HONAUT  INE671A01010   \n",
       "..                                    ...       ...         ...           ...   \n",
       "380                           Biocon Ltd.    532523      BIOCON  INE376G01013   \n",
       "388                          Trident Ltd.    521064     TRIDENT  INE064C01022   \n",
       "398                        KPR Mills Ltd.    532889     KPRMILL  INE930H01031   \n",
       "408                      Adani Power Ltd.    533096  ADANIPOWER  INE814H01011   \n",
       "489  Tata Teleservices (Maharashtra) Ltd.    532371        TTML  INE517B01013   \n",
       "\n",
       "            Sector                Industry        Date     Price  \\\n",
       "1         Textiles      Readymade Garments  2022-09-05  49786.20   \n",
       "3       Healthcare          Drugs & Pharma  2022-09-05  18209.00   \n",
       "8       Automobile           Tyres & Tubes  2022-09-05  84254.05   \n",
       "13       Financial     Investment Services  2022-09-05   5672.75   \n",
       "16   Capital Goods   Electronic Components  2022-09-05  41954.05   \n",
       "..             ...                     ...         ...       ...   \n",
       "380     Healthcare          Drugs & Pharma  2022-09-05    292.80   \n",
       "388       Textiles   Cotton & Blended Yarn  2022-09-05     40.95   \n",
       "398       Textiles   Cotton & Blended Yarn  2022-09-05    596.80   \n",
       "408         Energy  Electricity Generation  2022-09-05    389.85   \n",
       "489  Communication        Telecom Services  2022-09-05    132.75   \n",
       "\n",
       "     1 day change(%)  52 Week Low  ...  Dividend Yield(%) EV / EBITDA  \\\n",
       "1              -0.26     31500.00  ...               0.74       51.79   \n",
       "3              -1.26     15514.00  ...               1.51       30.98   \n",
       "8              -0.12     63000.00  ...               0.18       15.57   \n",
       "13              0.40      4231.25  ...               2.03      176.36   \n",
       "16             -0.59     30185.35  ...               0.21       66.82   \n",
       "..               ...          ...  ...                ...         ...   \n",
       "380            -0.95       290.65  ...               0.17       16.83   \n",
       "388             3.02        23.10  ...               0.88       14.95   \n",
       "398             0.86       390.24  ...               0.03       14.65   \n",
       "408            -2.84        89.20  ...               0.00       10.57   \n",
       "489            -1.85        33.30  ...               0.00       94.59   \n",
       "\n",
       "    Price / Sales Price / Cash Flow Earning Per Share  Book Value Per Share  \\\n",
       "1           11.75            169.84            656.83               1161.63   \n",
       "3            7.73             40.84            380.52                1403.0   \n",
       "8            1.72            -61.82           1478.99              33376.26   \n",
       "13         163.59             39.22            381.55               3853.51   \n",
       "16          12.14            140.56            395.37               3313.31   \n",
       "..            ...               ...               ...                   ...   \n",
       "380           4.1             29.87               5.9                 70.28   \n",
       "388          2.89             23.12              1.48                   7.8   \n",
       "398          3.84             41.36             26.34                 99.86   \n",
       "408          4.32             14.71             24.41                 60.89   \n",
       "489         23.73             48.69              -6.1                -97.84   \n",
       "\n",
       "     Cash Flow Per Share  Free Cash Flow Per Share  Dividend Per Share  Delta  \n",
       "1                 293.09                    191.03              370.00   0.03  \n",
       "3                 445.96                     446.9              275.00   0.24  \n",
       "8               -1363.28                  -5522.36              150.00   0.06  \n",
       "13                144.64                     29.02              115.00   0.14  \n",
       "16                298.17                    384.59               90.00   0.11  \n",
       "..                   ...                       ...                 ...    ...  \n",
       "380                  9.8                     -7.68                0.50   0.29  \n",
       "388                 1.77                      0.87                0.36   0.42  \n",
       "398                14.36                    -12.23                0.15   0.23  \n",
       "408                26.53                      12.7                0.00   0.10  \n",
       "489                 2.72                     -5.74                0.00   0.54  \n",
       "\n",
       "[78 rows x 42 columns]"
      ]
     },
     "execution_count": 52,
     "metadata": {},
     "output_type": "execute_result"
    }
   ],
   "source": [
    "Low_risk_taking"
   ]
  },
  {
   "cell_type": "code",
   "execution_count": 53,
   "id": "2d3cf465",
   "metadata": {},
   "outputs": [],
   "source": [
    "####  Filter data Devidend   : Already Sorted the values"
   ]
  },
  {
   "cell_type": "code",
   "execution_count": 54,
   "id": "6b8fe907",
   "metadata": {},
   "outputs": [],
   "source": [
    "###  Drop Down list"
   ]
  },
  {
   "cell_type": "code",
   "execution_count": 55,
   "id": "da3054e1",
   "metadata": {},
   "outputs": [],
   "source": [
    "# from google.oauth2.service_account import Credentials\n",
    "\n",
    "# scopes = [\n",
    "#     'https://www.googleapis.com/auth/spreadsheets',\n",
    "#     'https://www.googleapis.com/auth/drive'\n",
    "# ]\n",
    "\n",
    "# credentials = Credentials.from_service_account_file(\n",
    "#     'C:/Users/sunil/OneDrive/Desktop/investment-advisor-370119-1d4ea345f207.json',\n",
    "#     scopes=scopes\n",
    "# )\n",
    "\n",
    "# gc = gspread.authorize(credentials)\n",
    "# gc"
   ]
  },
  {
   "cell_type": "code",
   "execution_count": 56,
   "id": "74913094",
   "metadata": {},
   "outputs": [],
   "source": [
    "\n",
    "# scopes = [\n",
    "#     'https://www.googleapis.com/auth/spreadsheets',\n",
    "#     'https://www.googleapis.com/auth/drive']\n",
    "\n",
    "# var = ServiceAccountCredentials.from_json_keyfile_name('C:/Users/sunil/OneDrive/Desktop/investment-advisor-370119-1d4ea345f207.json',scopes=scopes)\n",
    "# file = gspread.authorize(var)\n",
    "# workbook=file.open(\"investmentdata\")\n",
    "# sheet=workbook.worksheet(\"Final report\")\n",
    "\n",
    "# # client = gspread.authorize(credentials)\n",
    "# # spreadsheetId = \"412397938\" # Please set the Spreadsheet ID.\n",
    "# # sheetName = \"Final report\" # Please set the sheet ID.\n",
    "\n",
    "# # spreadsheet = client.open_by_key(spreadsheetId)\n",
    "# # sheetId = spreadsheet.worksheet(sheetName).id\n",
    "\n",
    "# body = {\n",
    "#     \"requests\": [\n",
    "#         {\n",
    "#             \"updateCells\": {\n",
    "#                 \"range\": {\n",
    "#                     \"sheetId\": 412397938,\n",
    "#                     \"startRowIndex\": 26,\n",
    "#                     \"endRowIndex\": 27,\n",
    "#                     \"startColumnIndex\": 1,\n",
    "#                     \"endColumnIndex\": 2\n",
    "#                 },\n",
    "#                 \"rows\": [\n",
    "#                     {\n",
    "#                         \"values\": [\n",
    "#                             {\n",
    "#                                 \"dataValidation\": {\n",
    "#                                     \"condition\": {\n",
    "#                                         \"values\": [\n",
    "#                                             {\n",
    "#                                                 \"userEnteredValue\": \"High Risk\"\n",
    "#                                             },\n",
    "#                                             {\n",
    "#                                                 \"userEnteredValue\": \"Low Risk\"\n",
    "#                                             },\n",
    "#                                             {\n",
    "#                                                 \"userEnteredValue\": \"Mderate Risk\"\n",
    "#                                             },\n",
    "#                                             {\n",
    "#                                                 \"userEnteredValue\": \"Risk Taking\"\n",
    "#                                             }\n",
    "#                                         ],\n",
    "#                                         \"type\": \"ONE_OF_LIST\"\n",
    "#                                     },\n",
    "#                                     \"showCustomUi\": True\n",
    "#                                 }\n",
    "#                             }\n",
    "#                         ]\n",
    "#                     }\n",
    "#                 ],\n",
    "#                 \"fields\": \"dataValidation\"\n",
    "#             }\n",
    "#         }\n",
    "#     ]\n",
    "# }\n",
    "# sheet.batch_update(body)"
   ]
  },
  {
   "cell_type": "code",
   "execution_count": 57,
   "id": "4a346492",
   "metadata": {},
   "outputs": [],
   "source": [
    "###   Logic"
   ]
  },
  {
   "cell_type": "code",
   "execution_count": 63,
   "id": "55531267",
   "metadata": {},
   "outputs": [],
   "source": [
    "## Final Report Spread Sheet\n",
    "final_report = data.worksheet('FINAL REPORT')\n",
    "final_report2 = data.worksheet(\"FINAL REPORT2\")"
   ]
  },
  {
   "cell_type": "code",
   "execution_count": 64,
   "id": "f2c59d64",
   "metadata": {},
   "outputs": [
    {
     "data": {
      "text/plain": [
       "'Risk Taking'"
      ]
     },
     "execution_count": 64,
     "metadata": {},
     "output_type": "execute_result"
    }
   ],
   "source": [
    "final_report.acell('C27').value"
   ]
  },
  {
   "cell_type": "code",
   "execution_count": 70,
   "id": "210b3971",
   "metadata": {},
   "outputs": [
    {
     "data": {
      "text/plain": [
       "['Page Industries Ltd.',\n",
       " 'Abbott India Ltd.',\n",
       " 'MRF Ltd.',\n",
       " 'Bajaj Holdings & Investment Ltd.',\n",
       " 'Honeywell Automation India Ltd.']"
      ]
     },
     "execution_count": 70,
     "metadata": {},
     "output_type": "execute_result"
    }
   ],
   "source": [
    "low_risk_list = [i for i in Low_risk_taking['Company'].head(5)]\n",
    "low_risk_list"
   ]
  },
  {
   "cell_type": "code",
   "execution_count": 66,
   "id": "ca14e726",
   "metadata": {},
   "outputs": [],
   "source": [
    "Moderate_Risk_list = [i for i in Moderate_Risk_Taking['Company'].head(5)]"
   ]
  },
  {
   "cell_type": "code",
   "execution_count": 67,
   "id": "cec59a2d",
   "metadata": {},
   "outputs": [
    {
     "data": {
      "text/plain": [
       "['Cyient Ltd.',\n",
       " 'Birla Corporation Ltd.',\n",
       " 'Graphite India Ltd.',\n",
       " 'Symphony Ltd.',\n",
       " 'Chambal Fertilisers & Chemicals Ltd.']"
      ]
     },
     "execution_count": 67,
     "metadata": {},
     "output_type": "execute_result"
    }
   ],
   "source": [
    "Moderate_Risk_list"
   ]
  },
  {
   "cell_type": "code",
   "execution_count": 68,
   "id": "776ce70e",
   "metadata": {},
   "outputs": [
    {
     "data": {
      "text/plain": [
       "['NCC Ltd.', 'Tata Coffee Ltd.', 'Greaves Cotton Ltd.', 'FDC Ltd.']"
      ]
     },
     "execution_count": 68,
     "metadata": {},
     "output_type": "execute_result"
    }
   ],
   "source": [
    "Risk_Taking_list = [i for i in Risk_Taking['Company'].head(5)]\n",
    "Risk_Taking_list"
   ]
  },
  {
   "cell_type": "code",
   "execution_count": 69,
   "id": "da43d2b7",
   "metadata": {},
   "outputs": [
    {
     "data": {
      "text/plain": [
       "[]"
      ]
     },
     "execution_count": 69,
     "metadata": {},
     "output_type": "execute_result"
    }
   ],
   "source": [
    "High_Taking_list = [i for i in High_Risk_Taking['Company'].head(5)]\n",
    "\n",
    "High_Taking_list"
   ]
  },
  {
   "cell_type": "code",
   "execution_count": 62,
   "id": "26d648ce",
   "metadata": {},
   "outputs": [
    {
     "data": {
      "text/plain": [
       "4"
      ]
     },
     "execution_count": 62,
     "metadata": {},
     "output_type": "execute_result"
    }
   ],
   "source": [
    "len(Risk_Taking_list)"
   ]
  },
  {
   "cell_type": "code",
   "execution_count": null,
   "id": "9dbec861",
   "metadata": {},
   "outputs": [],
   "source": []
  },
  {
   "cell_type": "code",
   "execution_count": 63,
   "id": "46a33224",
   "metadata": {},
   "outputs": [],
   "source": [
    "#     final_report.update(\"B33\",str(low_risk_list[1]))\n",
    "#     final_report.update(\"B34\",str(low_risk_list[2]))\n",
    "#     final_report.update(\"B35\",str(low_risk_list[3]))\n",
    "#     final_report.update(\"B36\",str(low_risk_list[4]))"
   ]
  },
  {
   "cell_type": "code",
   "execution_count": 86,
   "id": "7956da91",
   "metadata": {},
   "outputs": [],
   "source": [
    "####### If Else   (Risk Profile)\n",
    "\n",
    "if final_report.acell('C27').value == \"Low Risk Taking\":\n",
    "    final_report2.update(\"B2:B6\",[[str(low_risk_list[0])],[str(low_risk_list[1])],[str(low_risk_list[2])],[str(low_risk_list[3])],[str(low_risk_list[4])]])\n",
    "\n",
    "elif final_report.acell('C27').value == \"Moderate Risk Taking\":\n",
    "    final_report2.update(\"B2:B6\",[[str(Moderate_Risk_list[0])],[str(Moderate_Risk_list[1])],[str(Moderate_Risk_list[2])],[str(Moderate_Risk_list[3])],[str(Moderate_Risk_list[4])]])\n",
    "\n",
    "elif final_report.acell('C27').value == \"High Risk Taking\":\n",
    "    final_report2.update(\"B2:B6\",[[\"Company Not Found\"],[\"Company Not Found\"],[\"Company Not Found\"],[\"Company Not Found\"],[\"Company Not Found\"]])\n",
    "\n",
    "elif final_report.acell('C27').value == \"Risk Taking\":\n",
    "    final_report2.update(\"B2:B6\",[[str(Risk_Taking_list[0])],[str(Risk_Taking_list[1])],[str(Risk_Taking_list[2])],[str(Risk_Taking_list[3])],['']])\n",
    "if final_report2.acell('B6').value == '' :\n",
    "        final_report2.update('C6',[''])\n",
    "\n"
   ]
  },
  {
   "cell_type": "code",
   "execution_count": 87,
   "id": "117f3ca2",
   "metadata": {},
   "outputs": [],
   "source": [
    "# Low Risk\n",
    "divide_low_risk = [investment_fund/len(low_risk_list)]*len(low_risk_list)\n",
    "divide_low_risk = [[float(i)] for i in divide_low_risk]\n",
    "divide_low_risk = divide_low_risk.append(0)\n",
    "\n",
    "# Risk Taking\n",
    "divide_risk_taking = [investment_fund/len(Risk_Taking_list)]*len(Risk_Taking_list)\n",
    "divide_risk_taking = [[float(i)] for i in divide_risk_taking]\n",
    "\n",
    "# Moderate Risk \n",
    "divide_Moderate_risk = [investment_fund/len(Moderate_Risk_list)]*len(Moderate_Risk_list)\n",
    "divide_Moderate_risk = [[float(i)] for i in divide_Moderate_risk]\n",
    "\n",
    "# High Risk\n",
    "divide_High_risk = [investment_fund/1]*len(High_Taking_list)\n",
    "divide_High_risk = [[float(i)] for i in divide_High_risk]"
   ]
  },
  {
   "cell_type": "code",
   "execution_count": 88,
   "id": "7849e10a",
   "metadata": {},
   "outputs": [],
   "source": [
    "### Investment Apply\n",
    "if int(final_report.acell('C24').value)>0:\n",
    "    if int(final_report.acell('C24').value)>0 and (final_report.acell('C27').value == \"Low Risk Taking\"):\n",
    "        final_report2.update(\"C2:C6\",divide_low_risk)\n",
    "\n",
    "    elif int(final_report.acell('C24').value) and (final_report.acell('C27').value == \"Risk Taking\"):\n",
    "        final_report2.update(\"C2:C6\",divide_risk_taking)\n",
    "\n",
    "    elif int(final_report.acell('C24').value) > 0 and (final_report.acell('C27').value == \"Moderate Risk Taking\"):\n",
    "        final_report2.update(\"C2:C6\",divide_Moderate_risk)\n",
    "    else:\n",
    "        final_report2.update(\"C2:C6\",[[i*0] for i in range(5)])\n",
    "else:\n",
    "    if int(final_report.acell('C24').value)<0 and (final_report.acell('C27').value == \"Low Risk Taking\"):\n",
    "        final_report2.update(\"C2:C6\",[['Not Sufficient Fund']]*len(low_risk_list))\n",
    "        \n",
    "    if int(final_report.acell('C24').value)<0 and (final_report.acell('C27').value == \"Low Risk Taking\"):\n",
    "        final_report2.update(\"C2:C6\",[['Not Sufficient Fund']]*len(divide_risk_taking))\n",
    "        \n",
    "    if int(final_report.acell('C24').value)<0 and (final_report.acell('C27').value == \"Low Risk Taking\"):\n",
    "        final_report2.update(\"C2:C6\",[['Not Sufficient Fund']]*len(divide_Moderate_risk))\n",
    "    else:  \n",
    "        final_report2.update(\"C2:C6\",[[i*0] for i in range(5)])\n",
    "        \n",
    "        \n",
    "        \n",
    "        \n",
    "\n"
   ]
  },
  {
   "cell_type": "code",
   "execution_count": null,
   "id": "026e3331",
   "metadata": {},
   "outputs": [],
   "source": []
  },
  {
   "cell_type": "code",
   "execution_count": null,
   "id": "3d19d9ab",
   "metadata": {},
   "outputs": [],
   "source": []
  },
  {
   "cell_type": "code",
   "execution_count": null,
   "id": "e0e7fc15",
   "metadata": {},
   "outputs": [],
   "source": []
  },
  {
   "cell_type": "markdown",
   "id": "5d75f0b2",
   "metadata": {},
   "source": [
    "### SUBTASK 3"
   ]
  },
  {
   "cell_type": "code",
   "execution_count": 89,
   "id": "8168ecd1",
   "metadata": {},
   "outputs": [],
   "source": [
    "import matplotlib.pyplot as plt"
   ]
  },
  {
   "cell_type": "code",
   "execution_count": 90,
   "id": "f2c3a5c7",
   "metadata": {},
   "outputs": [],
   "source": [
    "sectors_unique =  [i for i in  df_stocks['Sector'].unique()]"
   ]
  },
  {
   "cell_type": "code",
   "execution_count": null,
   "id": "0d438182",
   "metadata": {},
   "outputs": [],
   "source": []
  },
  {
   "cell_type": "code",
   "execution_count": 91,
   "id": "701d206a",
   "metadata": {
    "scrolled": false
   },
   "outputs": [
    {
     "data": {
      "image/png": "[encoded data removed]",
      "text/plain": [
       "<Figure size 432x288 with 1 Axes>"
      ]
     },
     "metadata": {
      "needs_background": "light"
     },
     "output_type": "display_data"
    }
   ],
   "source": [
    "### First \n",
    "sector_median = df_stocks.groupby('Sector').agg({\"Enterprise Value(Cr)\":'median'}).plot.bar(stacked=True)\n",
    "plt.title('Median Comparison')\n",
    "plt.show()"
   ]
  },
  {
   "cell_type": "code",
   "execution_count": 92,
   "id": "28ae3b4e",
   "metadata": {},
   "outputs": [],
   "source": [
    "### Second "
   ]
  },
  {
   "cell_type": "code",
   "execution_count": 93,
   "id": "4d4de112",
   "metadata": {},
   "outputs": [
    {
     "data": {
      "text/plain": [
       "0.04037095586290389"
      ]
     },
     "execution_count": 93,
     "metadata": {},
     "output_type": "execute_result"
    }
   ],
   "source": [
    "Correlation = df_stocks['Dividend Per Share'].corr(df_stocks['Market Cap(Cr)'])\n",
    "Correlation"
   ]
  },
  {
   "cell_type": "code",
   "execution_count": 94,
   "id": "1565f698",
   "metadata": {},
   "outputs": [
    {
     "data": {
      "image/png": "[encoded data removed]",
      "text/plain": [
       "<Figure size 360x360 with 6 Axes>"
      ]
     },
     "metadata": {
      "needs_background": "light"
     },
     "output_type": "display_data"
    }
   ],
   "source": [
    "sns.pairplot(df_stocks[[\"Market Cap(Cr)\",\"Dividend Per Share\"]])\n",
    "plt.show()"
   ]
  },
  {
   "cell_type": "code",
   "execution_count": 95,
   "id": "9b0dceb8",
   "metadata": {},
   "outputs": [],
   "source": [
    "# corr = df_stocks.corr()"
   ]
  },
  {
   "cell_type": "code",
   "execution_count": 96,
   "id": "16a46b41",
   "metadata": {},
   "outputs": [],
   "source": [
    "# sns.heatmap(corr,cmap = 'coolwarm')"
   ]
  },
  {
   "cell_type": "code",
   "execution_count": 97,
   "id": "3f31f602",
   "metadata": {},
   "outputs": [],
   "source": [
    "#####  Another Way to do\n",
    "# corrwith  = df_stocks.corrwith(df_stocks['Dividend Per Share'])\n",
    "# corrwith"
   ]
  },
  {
   "cell_type": "code",
   "execution_count": 98,
   "id": "f9a462c8",
   "metadata": {},
   "outputs": [],
   "source": [
    "#### Third"
   ]
  },
  {
   "cell_type": "code",
   "execution_count": 99,
   "id": "cec69ea7",
   "metadata": {},
   "outputs": [],
   "source": [
    "### Positive Company Count\n",
    "\n",
    "df_industry = df_stocks[df_stocks['3-Year Return']>0].groupby('Industry')"
   ]
  },
  {
   "cell_type": "code",
   "execution_count": 100,
   "id": "a37c9a56",
   "metadata": {
    "scrolled": true
   },
   "outputs": [],
   "source": [
    "pos_count= df_industry['Company'].count()"
   ]
  },
  {
   "cell_type": "code",
   "execution_count": 101,
   "id": "7bf00fee",
   "metadata": {},
   "outputs": [],
   "source": [
    "# Negative Company count\n",
    "\n",
    "df_nag = df_stocks[df_stocks['3-Year Return']<0].groupby('Industry')"
   ]
  },
  {
   "cell_type": "code",
   "execution_count": 102,
   "id": "2ade27ed",
   "metadata": {},
   "outputs": [],
   "source": [
    "nag_count = df_nag['Company'].count()"
   ]
  },
  {
   "cell_type": "code",
   "execution_count": 103,
   "id": "421a3d42",
   "metadata": {},
   "outputs": [
    {
     "data": {
      "text/plain": [
       "Industry\n",
       "ACs & Refrigerators               2\n",
       "Air Transport                     1\n",
       "Asset Management Companies        1\n",
       "Auto Ancillaries                  1\n",
       "Banking                          10\n",
       "Cement                            1\n",
       "Communication Equipment           1\n",
       "Construction                      2\n",
       "Drugs & Pharma                    5\n",
       "E-Commerce                        1\n",
       "Food Processing                   1\n",
       "Gems, Jewellery & Accessories     1\n",
       "General Insurance                 1\n",
       "Household & Personal Products     1\n",
       "Housing Finance                   2\n",
       "Lubricants & Grease               1\n",
       "Media & Entertainment             1\n",
       "Misc. Fin.services                5\n",
       "Natural Gas Utilities             1\n",
       "Oil Refineries & Marketing        3\n",
       "Power Projects                    2\n",
       "Reinsurance                       1\n",
       "SIDCs/SFCs                        1\n",
       "Storage Batteries                 2\n",
       "Telecom Services                  1\n",
       "Tobacco Products                  1\n",
       "Name: Company, dtype: int64"
      ]
     },
     "execution_count": 103,
     "metadata": {},
     "output_type": "execute_result"
    }
   ],
   "source": [
    "nag_count"
   ]
  },
  {
   "cell_type": "code",
   "execution_count": 104,
   "id": "79c1f587",
   "metadata": {
    "scrolled": true
   },
   "outputs": [
    {
     "data": {
      "text/plain": [
       "Industry\n",
       "ACs & Refrigerators    4\n",
       "Abrasives              2\n",
       "Air Transport          1\n",
       "Aluminium              2\n",
       "Aquaculture            1\n",
       "                      ..\n",
       "Tyres & Tubes          4\n",
       "Vegetable oils         1\n",
       "Welding machinery      1\n",
       "Wires & cables         3\n",
       "Wood                   1\n",
       "Name: Company, Length: 127, dtype: int64"
      ]
     },
     "execution_count": 104,
     "metadata": {},
     "output_type": "execute_result"
    }
   ],
   "source": [
    "pos_count"
   ]
  },
  {
   "cell_type": "code",
   "execution_count": 105,
   "id": "cb9b6019",
   "metadata": {
    "scrolled": true
   },
   "outputs": [],
   "source": [
    "dfs = pd.DataFrame(pos_count)\n"
   ]
  },
  {
   "cell_type": "code",
   "execution_count": null,
   "id": "467460d3",
   "metadata": {},
   "outputs": [],
   "source": []
  },
  {
   "cell_type": "code",
   "execution_count": null,
   "id": "f2edd70d",
   "metadata": {},
   "outputs": [],
   "source": []
  },
  {
   "cell_type": "code",
   "execution_count": null,
   "id": "ecbdeeb4",
   "metadata": {},
   "outputs": [],
   "source": []
  },
  {
   "cell_type": "code",
   "execution_count": null,
   "id": "7b909725",
   "metadata": {},
   "outputs": [],
   "source": []
  }
 ],
 "metadata": {
  "kernelspec": {
   "display_name": "Python 3 (ipykernel)",
   "language": "python",
   "name": "python3"
  },
  "language_info": {
   "codemirror_mode": {
    "name": "ipython",
    "version": 3
   },
   "file_extension": ".py",
   "mimetype": "text/x-python",
   "name": "python",
   "nbconvert_exporter": "python",
   "pygments_lexer": "ipython3",
   "version": "3.9.12"
  }
 },
 "nbformat": 4,
 "nbformat_minor": 5
}
